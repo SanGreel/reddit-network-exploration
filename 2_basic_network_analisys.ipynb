{
 "cells": [
  {
   "cell_type": "code",
   "execution_count": 1,
   "metadata": {},
   "outputs": [],
   "source": [
    "import pandas as pd\n",
    "import numpy as np\n",
    "import igraph\n",
    "\n",
    "import matplotlib.pyplot as plt\n",
    "from matplotlib.pyplot import figure\n",
    "%matplotlib inline"
   ]
  },
  {
   "cell_type": "markdown",
   "metadata": {},
   "source": [
    "#### TODO\n",
    "1. Make 3th.\n",
    "3. Make 4th."
   ]
  },
  {
   "cell_type": "markdown",
   "metadata": {},
   "source": [
    "#### Load data"
   ]
  },
  {
   "cell_type": "code",
   "execution_count": 2,
   "metadata": {},
   "outputs": [],
   "source": [
    "data_foled = 'data/'\n",
    "data_file = 'network.csv'\n",
    "directed = False"
   ]
  },
  {
   "cell_type": "code",
   "execution_count": 3,
   "metadata": {},
   "outputs": [],
   "source": [
    "df = pd.read_csv(data_foled+data_file, header=0, error_bad_lines=False)\n",
    "df.columns = ['source_node', 'target_node']"
   ]
  },
  {
   "cell_type": "code",
   "execution_count": 4,
   "metadata": {},
   "outputs": [
    {
     "data": {
      "text/html": [
       "<div>\n",
       "<style scoped>\n",
       "    .dataframe tbody tr th:only-of-type {\n",
       "        vertical-align: middle;\n",
       "    }\n",
       "\n",
       "    .dataframe tbody tr th {\n",
       "        vertical-align: top;\n",
       "    }\n",
       "\n",
       "    .dataframe thead th {\n",
       "        text-align: right;\n",
       "    }\n",
       "</style>\n",
       "<table border=\"1\" class=\"dataframe\">\n",
       "  <thead>\n",
       "    <tr style=\"text-align: right;\">\n",
       "      <th></th>\n",
       "      <th>source_node</th>\n",
       "      <th>target_node</th>\n",
       "    </tr>\n",
       "  </thead>\n",
       "  <tbody>\n",
       "    <tr>\n",
       "      <th>0</th>\n",
       "      <td>-1</td>\n",
       "      <td>694</td>\n",
       "    </tr>\n",
       "    <tr>\n",
       "      <th>1</th>\n",
       "      <td>0</td>\n",
       "      <td>545</td>\n",
       "    </tr>\n",
       "    <tr>\n",
       "      <th>2</th>\n",
       "      <td>0</td>\n",
       "      <td>694</td>\n",
       "    </tr>\n",
       "    <tr>\n",
       "      <th>3</th>\n",
       "      <td>0</td>\n",
       "      <td>734</td>\n",
       "    </tr>\n",
       "    <tr>\n",
       "      <th>4</th>\n",
       "      <td>0</td>\n",
       "      <td>531</td>\n",
       "    </tr>\n",
       "    <tr>\n",
       "      <th>5</th>\n",
       "      <td>0</td>\n",
       "      <td>557</td>\n",
       "    </tr>\n",
       "    <tr>\n",
       "      <th>6</th>\n",
       "      <td>0</td>\n",
       "      <td>153</td>\n",
       "    </tr>\n",
       "    <tr>\n",
       "      <th>7</th>\n",
       "      <td>0</td>\n",
       "      <td>723</td>\n",
       "    </tr>\n",
       "    <tr>\n",
       "      <th>8</th>\n",
       "      <td>0</td>\n",
       "      <td>724</td>\n",
       "    </tr>\n",
       "    <tr>\n",
       "      <th>9</th>\n",
       "      <td>0</td>\n",
       "      <td>539</td>\n",
       "    </tr>\n",
       "  </tbody>\n",
       "</table>\n",
       "</div>"
      ],
      "text/plain": [
       "   source_node  target_node\n",
       "0           -1          694\n",
       "1            0          545\n",
       "2            0          694\n",
       "3            0          734\n",
       "4            0          531\n",
       "5            0          557\n",
       "6            0          153\n",
       "7            0          723\n",
       "8            0          724\n",
       "9            0          539"
      ]
     },
     "execution_count": 4,
     "metadata": {},
     "output_type": "execute_result"
    }
   ],
   "source": [
    "df.head(10)"
   ]
  },
  {
   "cell_type": "code",
   "execution_count": 5,
   "metadata": {},
   "outputs": [],
   "source": [
    "tuples = [tuple(x) for x in df.values]\n",
    "g = igraph.Graph.TupleList(tuples, directed = directed)"
   ]
  },
  {
   "cell_type": "markdown",
   "metadata": {},
   "source": [
    "### 1. Basic network characteristics"
   ]
  },
  {
   "cell_type": "markdown",
   "metadata": {},
   "source": [
    "#### Number of nodes $N$"
   ]
  },
  {
   "cell_type": "code",
   "execution_count": 6,
   "metadata": {},
   "outputs": [
    {
     "name": "stdout",
     "output_type": "stream",
     "text": [
      "Number of nodes = 868\n"
     ]
    }
   ],
   "source": [
    "number_nodes = g.vcount()\n",
    "print(\"Number of nodes = {0}\".format(number_nodes))"
   ]
  },
  {
   "cell_type": "markdown",
   "metadata": {},
   "source": [
    "#### Number of links $L$"
   ]
  },
  {
   "cell_type": "code",
   "execution_count": 7,
   "metadata": {},
   "outputs": [
    {
     "name": "stdout",
     "output_type": "stream",
     "text": [
      "Number of links = 5321\n"
     ]
    }
   ],
   "source": [
    "number_links = g.ecount()\n",
    "print(\"Number of links = {0}\".format(number_links))"
   ]
  },
  {
   "cell_type": "code",
   "execution_count": 8,
   "metadata": {},
   "outputs": [],
   "source": [
    "erg = igraph.Graph.Erdos_Renyi(n=number_nodes, m=number_links, directed=directed)"
   ]
  },
  {
   "cell_type": "markdown",
   "metadata": {},
   "source": [
    "#### Density of Links"
   ]
  },
  {
   "cell_type": "code",
   "execution_count": 9,
   "metadata": {},
   "outputs": [],
   "source": [
    "def own_density(e, v):\n",
    "    return (2*e)/(v*(v-1))"
   ]
  },
  {
   "cell_type": "code",
   "execution_count": 10,
   "metadata": {},
   "outputs": [
    {
     "name": "stdout",
     "output_type": "stream",
     "text": [
      "Density = 0.01\n"
     ]
    }
   ],
   "source": [
    "g_density = round(np.mean(g.density()), 2)\n",
    "print(\"Density = {0}\".format(g_density))"
   ]
  },
  {
   "cell_type": "code",
   "execution_count": 11,
   "metadata": {},
   "outputs": [
    {
     "name": "stdout",
     "output_type": "stream",
     "text": [
      "Density = 0.0001\n"
     ]
    }
   ],
   "source": [
    "g_density = round(np.mean(own_density(number_nodes, number_links)), 4)\n",
    "\n",
    "print(\"Density = {0}\".format(g_density))"
   ]
  },
  {
   "cell_type": "markdown",
   "metadata": {},
   "source": [
    "#### Average node degree $<k>$"
   ]
  },
  {
   "cell_type": "code",
   "execution_count": 12,
   "metadata": {},
   "outputs": [
    {
     "name": "stdout",
     "output_type": "stream",
     "text": [
      "Average node degree = 12.26\n",
      "Average node degree (ER) = 12.26\n"
     ]
    }
   ],
   "source": [
    "g_degree = round(np.mean(g.degree()), 2)\n",
    "erg_degree = round(np.mean(erg.degree()), 2)\n",
    "\n",
    "print(\"Average node degree = {0}\".format(g_degree))\n",
    "print(\"Average node degree (ER) = {0}\".format(erg_degree))"
   ]
  },
  {
   "cell_type": "markdown",
   "metadata": {},
   "source": [
    "#### Min. node degree $k_{min}$"
   ]
  },
  {
   "cell_type": "code",
   "execution_count": 51,
   "metadata": {},
   "outputs": [
    {
     "name": "stdout",
     "output_type": "stream",
     "text": [
      "Min. node degree = 1\n",
      "Min. node degree (ER) = 3\n"
     ]
    }
   ],
   "source": [
    "min_node_degree_g = min(g.degree())\n",
    "min_node_degree_erg = min(erg.degree())\n",
    "\n",
    "print(\"Min. node degree = {0}\".format(min_node_degree_g))\n",
    "print(\"Min. node degree (ER) = {0}\".format(min_node_degree_erg))"
   ]
  },
  {
   "cell_type": "markdown",
   "metadata": {},
   "source": [
    "#### Max. node degree $k_{max}$"
   ]
  },
  {
   "cell_type": "code",
   "execution_count": 14,
   "metadata": {},
   "outputs": [
    {
     "name": "stdout",
     "output_type": "stream",
     "text": [
      "Max. node degree = 743\n",
      "Max. node degree (ER) = 26\n"
     ]
    }
   ],
   "source": [
    "max_node_degree_g = max(g.degree())\n",
    "max_node_degree_erg = max(erg.degree())\n",
    "\n",
    "print(\"Max. node degree = {0}\".format(max_node_degree_g))\n",
    "print(\"Max. node degree (ER) = {0}\".format(max_node_degree_erg))"
   ]
  },
  {
   "cell_type": "code",
   "execution_count": 15,
   "metadata": {},
   "outputs": [
    {
     "data": {
      "text/plain": [
       "array([743, 686, 382, 380, 281, 272, 264, 206, 175, 169])"
      ]
     },
     "execution_count": 15,
     "metadata": {},
     "output_type": "execute_result"
    }
   ],
   "source": [
    "np.sort(g.degree())[::-1][:10]"
   ]
  },
  {
   "cell_type": "markdown",
   "metadata": {},
   "source": [
    "#### Average degree of the nearest neighbour $<knn>$"
   ]
  },
  {
   "cell_type": "code",
   "execution_count": 16,
   "metadata": {},
   "outputs": [
    {
     "name": "stdout",
     "output_type": "stream",
     "text": [
      "Average degree of the nearest neighbour = 374.91\n",
      "Average degree of the nearest neighbour (ER) = 13.18\n"
     ]
    }
   ],
   "source": [
    "g_knn = round(np.mean(g.knn()[0]), 2)\n",
    "erg_knn = round(np.mean(erg.knn()[0]), 2)\n",
    "\n",
    "print(\"Average degree of the nearest neighbour = {0}\".format(g_knn))\n",
    "print(\"Average degree of the nearest neighbour (ER) = {0}\".format(erg_knn))"
   ]
  },
  {
   "cell_type": "markdown",
   "metadata": {},
   "source": [
    "#### Assortativity mixing by degrees $r$"
   ]
  },
  {
   "cell_type": "code",
   "execution_count": 17,
   "metadata": {},
   "outputs": [
    {
     "name": "stdout",
     "output_type": "stream",
     "text": [
      "Assortativity mixing by degrees = -0.414\n",
      "Assortativity mixing by degrees (ER) = -0.0\n"
     ]
    }
   ],
   "source": [
    "g_assortativity = round(g.assortativity_degree(), 3)\n",
    "erg_assortativity = round(erg.assortativity_degree(), 3)\n",
    "\n",
    "print(\"Assortativity mixing by degrees = {0}\".format(g_assortativity))\n",
    "print(\"Assortativity mixing by degrees (ER) = {0}\".format(erg_assortativity))"
   ]
  },
  {
   "cell_type": "code",
   "execution_count": 18,
   "metadata": {},
   "outputs": [],
   "source": [
    "res = []\n",
    "for i in range(0,2000):\n",
    "    erg = igraph.Graph.Erdos_Renyi(n=number_nodes, m=number_links, directed=directed)\n",
    "    res.append(round(erg.assortativity_degree(), 3))"
   ]
  },
  {
   "cell_type": "code",
   "execution_count": 19,
   "metadata": {},
   "outputs": [
    {
     "data": {
      "text/plain": [
       "-0.0023724999999999996"
      ]
     },
     "execution_count": 19,
     "metadata": {},
     "output_type": "execute_result"
    }
   ],
   "source": [
    "np.mean(res)"
   ]
  },
  {
   "cell_type": "code",
   "execution_count": 20,
   "metadata": {},
   "outputs": [
    {
     "data": {
      "text/plain": [
       "0.041"
      ]
     },
     "execution_count": 20,
     "metadata": {},
     "output_type": "execute_result"
    }
   ],
   "source": [
    "max(res)"
   ]
  },
  {
   "cell_type": "code",
   "execution_count": 21,
   "metadata": {},
   "outputs": [
    {
     "data": {
      "text/plain": [
       "0.0"
      ]
     },
     "execution_count": 21,
     "metadata": {},
     "output_type": "execute_result"
    }
   ],
   "source": [
    "min(np.abs(res))"
   ]
  },
  {
   "cell_type": "markdown",
   "metadata": {},
   "source": [
    "#### Size of the largest connected component GCC: number of nodes and % of nodes"
   ]
  },
  {
   "cell_type": "code",
   "execution_count": 22,
   "metadata": {},
   "outputs": [
    {
     "name": "stdout",
     "output_type": "stream",
     "text": [
      "Number of nodes in the LCC = 868\n",
      "Number of nodes in the LCC (ER) = 868\n"
     ]
    }
   ],
   "source": [
    "g_lcc_nodes = g.clusters(mode='weak').giant().vcount()\n",
    "erg_lcc_nodes = erg.clusters(mode='weak').giant().vcount()\n",
    "\n",
    "print(\"Number of nodes in the LCC = {0}\".format(g_lcc_nodes))\n",
    "print(\"Number of nodes in the LCC (ER) = {0}\".format(erg_lcc_nodes))"
   ]
  },
  {
   "cell_type": "code",
   "execution_count": 23,
   "metadata": {},
   "outputs": [
    {
     "name": "stdout",
     "output_type": "stream",
     "text": [
      "% of nodes in the LCC = 1.0\n",
      "% of nodes in the LCC (ER) = 1.0\n"
     ]
    }
   ],
   "source": [
    "g_lcc_nodes = g.clusters(mode='weak').giant().vcount()\n",
    "erg_lcc_nodes = erg.clusters(mode='weak').giant().vcount()\n",
    "\n",
    "print(\"% of nodes in the LCC = {0}\".format(g.vcount()/g_lcc_nodes))\n",
    "print(\"% of nodes in the LCC (ER) = {0}\".format(erg.vcount()/erg_lcc_nodes))"
   ]
  },
  {
   "cell_type": "markdown",
   "metadata": {},
   "source": [
    "#### Average shortest path length $<l>$"
   ]
  },
  {
   "cell_type": "code",
   "execution_count": 24,
   "metadata": {},
   "outputs": [],
   "source": [
    "def avg_sp(paths):\n",
    "    result = []\n",
    "    \n",
    "    for p in paths:\n",
    "        result.append(np.mean(p))\n",
    "    return np.mean(result)"
   ]
  },
  {
   "cell_type": "code",
   "execution_count": null,
   "metadata": {},
   "outputs": [],
   "source": []
  },
  {
   "cell_type": "code",
   "execution_count": 25,
   "metadata": {},
   "outputs": [],
   "source": [
    "g_sp = g.shortest_paths()\n",
    "erg_sp = erg.shortest_paths()"
   ]
  },
  {
   "cell_type": "code",
   "execution_count": 26,
   "metadata": {},
   "outputs": [
    {
     "name": "stdout",
     "output_type": "stream",
     "text": [
      "Average shortest path length = 2.059\n",
      "Average shortest path length (ER) = 2.95\n"
     ]
    }
   ],
   "source": [
    "g_avg_sp = round(avg_sp(g_sp),3)\n",
    "erg_avg_sp = round(avg_sp(erg_sp),3)\n",
    "\n",
    "print(\"Average shortest path length = {0}\".format(g_avg_sp))\n",
    "print(\"Average shortest path length (ER) = {0}\".format(erg_avg_sp))"
   ]
  },
  {
   "cell_type": "code",
   "execution_count": 27,
   "metadata": {},
   "outputs": [],
   "source": [
    "#todo: check avg shortest_paths"
   ]
  },
  {
   "cell_type": "code",
   "execution_count": 52,
   "metadata": {},
   "outputs": [
    {
     "name": "stdout",
     "output_type": "stream",
     "text": [
      "Average shortest path length = 2.061667171612478\n",
      "Average shortest path length (ER) = 2.953295170060434\n"
     ]
    }
   ],
   "source": [
    "print(\"Average shortest path length = {0}\".format(g.average_path_length(directed=False)))\n",
    "print(\"Average shortest path length (ER) = {0}\".format(erg.average_path_length(directed=False)))"
   ]
  },
  {
   "cell_type": "markdown",
   "metadata": {},
   "source": [
    "#### Diameter of the network (max value of shortest path length) $l_{max}$"
   ]
  },
  {
   "cell_type": "code",
   "execution_count": 28,
   "metadata": {},
   "outputs": [],
   "source": [
    "def max_sp(paths):\n",
    "    result = []\n",
    "    \n",
    "    for p in paths:\n",
    "        result.append(max(p))\n",
    "    return max(result)"
   ]
  },
  {
   "cell_type": "code",
   "execution_count": 29,
   "metadata": {},
   "outputs": [
    {
     "name": "stdout",
     "output_type": "stream",
     "text": [
      "Average shortest path length = 4\n",
      "Average shortest path length (ER) = 5\n"
     ]
    }
   ],
   "source": [
    "g_max_sp = round(max_sp(g_sp),3)\n",
    "erg_max_sp = round(max_sp(erg_sp),3)\n",
    "\n",
    "print(\"Average shortest path length = {0}\".format(g_max_sp))\n",
    "print(\"Average shortest path length (ER) = {0}\".format(erg_max_sp))"
   ]
  },
  {
   "cell_type": "code",
   "execution_count": 30,
   "metadata": {},
   "outputs": [
    {
     "data": {
      "text/plain": [
       "4"
      ]
     },
     "execution_count": 30,
     "metadata": {},
     "output_type": "execute_result"
    }
   ],
   "source": [
    "g.diameter()"
   ]
  },
  {
   "cell_type": "markdown",
   "metadata": {},
   "source": [
    "#### Global transitivity $C$"
   ]
  },
  {
   "cell_type": "code",
   "execution_count": 31,
   "metadata": {},
   "outputs": [
    {
     "name": "stdout",
     "output_type": "stream",
     "text": [
      "Global transitivity = 0.07\n",
      "Global transitivity (ER) = 0.014\n"
     ]
    }
   ],
   "source": [
    "g_transitivity = round(g.transitivity_undirected(),3)\n",
    "erg_transitivity = round(erg.transitivity_undirected(),3)\n",
    "\n",
    "print(\"Global transitivity = {0}\".format(g_transitivity))\n",
    "print(\"Global transitivity (ER) = {0}\".format(erg_transitivity))"
   ]
  },
  {
   "cell_type": "markdown",
   "metadata": {},
   "source": [
    "#### Average clustering coefficient $<c>$"
   ]
  },
  {
   "cell_type": "code",
   "execution_count": 32,
   "metadata": {},
   "outputs": [
    {
     "name": "stdout",
     "output_type": "stream",
     "text": [
      "Average clustering coefficient = 0.894\n",
      "Average clustering coefficient (ER) = 0.014\n"
     ]
    }
   ],
   "source": [
    "g_avg_transitivity = round(g.transitivity_avglocal_undirected(),3)\n",
    "erg_avg_transitivity = round(erg.transitivity_avglocal_undirected(),3)\n",
    "\n",
    "print(\"Average clustering coefficient = {0}\".format(g_avg_transitivity))\n",
    "print(\"Average clustering coefficient (ER) = {0}\".format(erg_avg_transitivity))"
   ]
  },
  {
   "cell_type": "markdown",
   "metadata": {},
   "source": [
    "#### Average betweenness centrality $<b>$"
   ]
  },
  {
   "cell_type": "code",
   "execution_count": 33,
   "metadata": {},
   "outputs": [
    {
     "name": "stdout",
     "output_type": "stream",
     "text": [
      "Average betweenness centrality = 145.792\n",
      "Average betweenness centrality (ER) = 208.844\n"
     ]
    }
   ],
   "source": [
    "g_betweenness = round(np.mean(g.edge_betweenness()),3)\n",
    "erg_betweenness = round(np.mean(erg.edge_betweenness()),3)\n",
    "\n",
    "print(\"Average betweenness centrality = {0}\".format(g_betweenness))\n",
    "print(\"Average betweenness centrality (ER) = {0}\".format(erg_betweenness))"
   ]
  },
  {
   "cell_type": "markdown",
   "metadata": {},
   "source": [
    "<br/><br/>\n",
    "### 2. Degree distribution"
   ]
  },
  {
   "cell_type": "code",
   "execution_count": 34,
   "metadata": {},
   "outputs": [],
   "source": [
    "# g_dd = g.degree_distribution().__plot__\n",
    "# erg_dd = erg.degree_distribution()"
   ]
  },
  {
   "cell_type": "code",
   "execution_count": 35,
   "metadata": {},
   "outputs": [],
   "source": [
    "g_d = g.degree()\n",
    "g_d_unique, g_d_counts = np.unique(g_d, return_counts=True)\n",
    "\n",
    "erg_d = erg.degree()\n",
    "erg_d_unique, erg_d_counts = np.unique(erg_d, return_counts=True)"
   ]
  },
  {
   "cell_type": "code",
   "execution_count": 36,
   "metadata": {},
   "outputs": [
    {
     "data": {
      "text/plain": [
       "<matplotlib.figure.Figure at 0x10aea1908>"
      ]
     },
     "execution_count": 36,
     "metadata": {},
     "output_type": "execute_result"
    },
    {
     "data": {
      "text/plain": [
       "<matplotlib.figure.Figure at 0x10aea1908>"
      ]
     },
     "metadata": {},
     "output_type": "display_data"
    }
   ],
   "source": [
    "figure(num=None, figsize=(8, 6), dpi=80, facecolor='w', edgecolor='k')"
   ]
  },
  {
   "cell_type": "code",
   "execution_count": 37,
   "metadata": {},
   "outputs": [
    {
     "data": {
      "image/png": "[encoded data removed]",
      "text/plain": [
       "<matplotlib.figure.Figure at 0x10aee04e0>"
      ]
     },
     "metadata": {},
     "output_type": "display_data"
    }
   ],
   "source": [
    "figure(figsize=(11,7))\n",
    "\n",
    "plt.scatter(x = g_d_unique,\n",
    "            y = g_d_counts, \n",
    "            alpha=0.5)\n",
    "\n",
    "plt.title('Graph degree distribution')\n",
    "plt.xlabel('degree')\n",
    "plt.ylabel('count')\n",
    "\n",
    "plt.grid(True)\n",
    "\n",
    "plt.grid(linestyle='dashed')\n",
    "plt.show() # show the plot"
   ]
  },
  {
   "cell_type": "code",
   "execution_count": 38,
   "metadata": {},
   "outputs": [
    {
     "data": {
      "image/png": "[encoded data removed]",
      "text/plain": [
       "<matplotlib.figure.Figure at 0x10aefc358>"
      ]
     },
     "metadata": {},
     "output_type": "display_data"
    }
   ],
   "source": [
    "figure(figsize=(11,7))\n",
    "\n",
    "plt.scatter(x = g_d_unique,\n",
    "            y = g_d_counts, \n",
    "            alpha=0.5)\n",
    "\n",
    "plt.title('Graph degree distribution in log scale')\n",
    "plt.xlabel('degree')\n",
    "plt.ylabel('count')\n",
    "\n",
    "plt.grid(True)\n",
    "\n",
    "plt.yscale('log')\n",
    "plt.xscale('log')\n",
    "plt.grid(linestyle='dashed')\n",
    "plt.show() # show the plot"
   ]
  },
  {
   "cell_type": "code",
   "execution_count": 39,
   "metadata": {},
   "outputs": [
    {
     "data": {
      "image/png": "[encoded data removed]",
      "text/plain": [
       "<matplotlib.figure.Figure at 0x1213d85f8>"
      ]
     },
     "metadata": {},
     "output_type": "display_data"
    }
   ],
   "source": [
    "figure(figsize=(11,7))\n",
    "\n",
    "plt.scatter(x = erg_d_unique,\n",
    "            y = erg_d_counts, \n",
    "            alpha=0.5)\n",
    "\n",
    "plt.title('ER graph degree distribution')\n",
    "plt.xlabel('degree')\n",
    "plt.ylabel('count')\n",
    "\n",
    "plt.grid(True)\n",
    "\n",
    "plt.grid(linestyle='dashed')\n",
    "plt.show() # show the plot"
   ]
  },
  {
   "cell_type": "code",
   "execution_count": 40,
   "metadata": {},
   "outputs": [],
   "source": [
    "# figure(figsize=(11,7))\n",
    "\n",
    "# plt.scatter(x = g_d_unique,\n",
    "#             y = g_d_counts, \n",
    "#             alpha=0.5)\n",
    "\n",
    "# plt.scatter(x = erg_d_unique,\n",
    "#             y = erg_d_counts, \n",
    "#             alpha=0.5)\n",
    "\n",
    "# plt.title('Graph degree distribution in log scale')\n",
    "# plt.xlabel('degree')\n",
    "# plt.ylabel('count')\n",
    "\n",
    "# plt.grid(True)\n",
    "\n",
    "# plt.yscale('log')\n",
    "# plt.xscale('log')\n",
    "# plt.grid(linestyle='dashed')\n",
    "\n",
    "# plt.plot([1, 2, 3], label=\"test1\")\n",
    "# plt.plot([3, 2, 1], label=\"test2\")\n",
    "\n",
    "# plt.show() # show the plot"
   ]
  },
  {
   "cell_type": "markdown",
   "metadata": {},
   "source": [
    "### 3. Correlations"
   ]
  },
  {
   "cell_type": "markdown",
   "metadata": {},
   "source": [
    "#### Node clustering coefficient $c$ vs node degree $k: c(k)$"
   ]
  },
  {
   "cell_type": "code",
   "execution_count": 42,
   "metadata": {},
   "outputs": [
    {
     "data": {
      "image/png": "[encoded data removed]",
      "text/plain": [
       "<matplotlib.figure.Figure at 0x1205f3630>"
      ]
     },
     "metadata": {},
     "output_type": "display_data"
    }
   ],
   "source": [
    "plt.figure(figsize=(10,5))\n",
    "plt.title('Node clustering coefficient vs node degree')\n",
    "plt.scatter(g.degree(), g.transitivity_local_undirected())\n",
    "plt.show()"
   ]
  },
  {
   "cell_type": "code",
   "execution_count": 44,
   "metadata": {},
   "outputs": [
    {
     "data": {
      "image/png": "[encoded data removed]",
      "text/plain": [
       "<matplotlib.figure.Figure at 0x10aea1f98>"
      ]
     },
     "metadata": {},
     "output_type": "display_data"
    }
   ],
   "source": [
    "plt.figure(figsize=(10,5))\n",
    "plt.title('Node clustering coefficient vs node degree for ER graph')\n",
    "plt.scatter(erg.degree(), erg.transitivity_local_undirected())\n",
    "plt.show()"
   ]
  },
  {
   "cell_type": "markdown",
   "metadata": {},
   "source": [
    "#### Average shortest path length $l$ from node to other nodes vs node degrees $k$"
   ]
  },
  {
   "cell_type": "code",
   "execution_count": 48,
   "metadata": {},
   "outputs": [
    {
     "data": {
      "image/png": "[encoded data removed]",
      "text/plain": [
       "<matplotlib.figure.Figure at 0x12149a9b0>"
      ]
     },
     "metadata": {},
     "output_type": "display_data"
    }
   ],
   "source": [
    "plt.figure(figsize=(10,5))\n",
    "plt.title('Average shortest path length from node to other nodes vs node degrees')\n",
    "plt.scatter(g.degree(), list(map(lambda x: np.mean(np.array(x)[np.array(x)<np.inf]),g_sp)))\n",
    "plt.show()"
   ]
  },
  {
   "cell_type": "code",
   "execution_count": 50,
   "metadata": {},
   "outputs": [
    {
     "data": {
      "image/png": "[encoded data removed]",
      "text/plain": [
       "<matplotlib.figure.Figure at 0x121e2cdd8>"
      ]
     },
     "metadata": {},
     "output_type": "display_data"
    }
   ],
   "source": [
    "plt.figure(figsize=(10,5))\n",
    "plt.title('Average shortest path length from node to other nodes vs node degrees for ER graph')\n",
    "plt.scatter(erg.degree(), list(map(lambda x: np.mean(np.array(x)[np.array(x)<np.inf]),erg_sp)))\n",
    "plt.show()"
   ]
  },
  {
   "cell_type": "markdown",
   "metadata": {},
   "source": [
    "### 4. Community structure of the network using Louvain algorithm"
   ]
  },
  {
   "cell_type": "code",
   "execution_count": null,
   "metadata": {},
   "outputs": [],
   "source": []
  },
  {
   "cell_type": "markdown",
   "metadata": {},
   "source": [
    "#### Modularity $Q$ of the optimal partition"
   ]
  },
  {
   "cell_type": "code",
   "execution_count": null,
   "metadata": {},
   "outputs": [],
   "source": []
  },
  {
   "cell_type": "markdown",
   "metadata": {},
   "source": [
    "#### The number $n_c$ of clusters in optimal partition"
   ]
  },
  {
   "cell_type": "code",
   "execution_count": null,
   "metadata": {},
   "outputs": [],
   "source": []
  },
  {
   "cell_type": "markdown",
   "metadata": {},
   "source": [
    "#### Distribution of cluster sizes of the optimal partition $P(n_c)$"
   ]
  },
  {
   "cell_type": "code",
   "execution_count": null,
   "metadata": {},
   "outputs": [],
   "source": []
  }
 ],
 "metadata": {
  "kernelspec": {
   "display_name": "Python 3",
   "language": "python",
   "name": "python3"
  },
  "language_info": {
   "codemirror_mode": {
    "name": "ipython",
    "version": 3
   },
   "file_extension": ".py",
   "mimetype": "text/x-python",
   "name": "python",
   "nbconvert_exporter": "python",
   "pygments_lexer": "ipython3",
   "version": "3.6.7"
  }
 },
 "nbformat": 4,
 "nbformat_minor": 2
}

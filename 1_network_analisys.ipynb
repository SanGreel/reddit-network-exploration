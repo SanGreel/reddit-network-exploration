{
 "cells": [
  {
   "cell_type": "code",
   "execution_count": 1,
   "metadata": {},
   "outputs": [],
   "source": [
    "import pandas as pd\n",
    "import numpy as np\n",
    "import igraph\n",
    "\n",
    "import matplotlib.pyplot as plt\n",
    "from matplotlib.pyplot import figure\n",
    "\n",
    "from sklearn.linear_model import LinearRegression\n",
    "from scipy import stats\n",
    "%matplotlib inline"
   ]
  },
  {
   "cell_type": "markdown",
   "metadata": {},
   "source": [
    "#### Load data"
   ]
  },
  {
   "cell_type": "code",
   "execution_count": 2,
   "metadata": {},
   "outputs": [
    {
     "name": "stderr",
     "output_type": "stream",
     "text": [
      "/Users/akurochkin/opt/anaconda3/lib/python3.9/site-packages/IPython/core/interactiveshell.py:3444: FutureWarning: The error_bad_lines argument has been deprecated and will be removed in a future version.\n",
      "\n",
      "\n",
      "  exec(code_obj, self.user_global_ns, self.user_ns)\n"
     ]
    }
   ],
   "source": [
    "data_foled = 'data/'\n",
    "data_file = 'network.csv'\n",
    "directed = False\n",
    "\n",
    "df = pd.read_csv(data_foled+data_file, header=0, error_bad_lines=False)\n",
    "df.columns = ['source_node', 'target_node']"
   ]
  },
  {
   "cell_type": "code",
   "execution_count": 3,
   "metadata": {},
   "outputs": [
    {
     "data": {
      "text/html": [
       "<div>\n",
       "<style scoped>\n",
       "    .dataframe tbody tr th:only-of-type {\n",
       "        vertical-align: middle;\n",
       "    }\n",
       "\n",
       "    .dataframe tbody tr th {\n",
       "        vertical-align: top;\n",
       "    }\n",
       "\n",
       "    .dataframe thead th {\n",
       "        text-align: right;\n",
       "    }\n",
       "</style>\n",
       "<table border=\"1\" class=\"dataframe\">\n",
       "  <thead>\n",
       "    <tr style=\"text-align: right;\">\n",
       "      <th></th>\n",
       "      <th>source_node</th>\n",
       "      <th>target_node</th>\n",
       "    </tr>\n",
       "  </thead>\n",
       "  <tbody>\n",
       "    <tr>\n",
       "      <th>0</th>\n",
       "      <td>-1</td>\n",
       "      <td>694</td>\n",
       "    </tr>\n",
       "    <tr>\n",
       "      <th>1</th>\n",
       "      <td>0</td>\n",
       "      <td>545</td>\n",
       "    </tr>\n",
       "    <tr>\n",
       "      <th>2</th>\n",
       "      <td>0</td>\n",
       "      <td>694</td>\n",
       "    </tr>\n",
       "    <tr>\n",
       "      <th>3</th>\n",
       "      <td>0</td>\n",
       "      <td>734</td>\n",
       "    </tr>\n",
       "    <tr>\n",
       "      <th>4</th>\n",
       "      <td>0</td>\n",
       "      <td>531</td>\n",
       "    </tr>\n",
       "    <tr>\n",
       "      <th>5</th>\n",
       "      <td>0</td>\n",
       "      <td>557</td>\n",
       "    </tr>\n",
       "    <tr>\n",
       "      <th>6</th>\n",
       "      <td>0</td>\n",
       "      <td>153</td>\n",
       "    </tr>\n",
       "    <tr>\n",
       "      <th>7</th>\n",
       "      <td>0</td>\n",
       "      <td>723</td>\n",
       "    </tr>\n",
       "    <tr>\n",
       "      <th>8</th>\n",
       "      <td>0</td>\n",
       "      <td>724</td>\n",
       "    </tr>\n",
       "    <tr>\n",
       "      <th>9</th>\n",
       "      <td>0</td>\n",
       "      <td>539</td>\n",
       "    </tr>\n",
       "  </tbody>\n",
       "</table>\n",
       "</div>"
      ],
      "text/plain": [
       "   source_node  target_node\n",
       "0           -1          694\n",
       "1            0          545\n",
       "2            0          694\n",
       "3            0          734\n",
       "4            0          531\n",
       "5            0          557\n",
       "6            0          153\n",
       "7            0          723\n",
       "8            0          724\n",
       "9            0          539"
      ]
     },
     "execution_count": 3,
     "metadata": {},
     "output_type": "execute_result"
    }
   ],
   "source": [
    "df.head(10)"
   ]
  },
  {
   "cell_type": "code",
   "execution_count": 4,
   "metadata": {},
   "outputs": [],
   "source": [
    "tuples = [tuple(x) for x in df.values]\n",
    "g = igraph.Graph.TupleList(tuples, directed = directed)"
   ]
  },
  {
   "cell_type": "markdown",
   "metadata": {},
   "source": [
    "## 1.Basic network characteristics"
   ]
  },
  {
   "cell_type": "markdown",
   "metadata": {},
   "source": [
    "#### Number of nodes $N$"
   ]
  },
  {
   "cell_type": "code",
   "execution_count": 5,
   "metadata": {},
   "outputs": [
    {
     "name": "stdout",
     "output_type": "stream",
     "text": [
      "Number of nodes = 868\n"
     ]
    }
   ],
   "source": [
    "number_nodes = g.vcount()\n",
    "print(\"Number of nodes = {0}\".format(number_nodes))"
   ]
  },
  {
   "cell_type": "markdown",
   "metadata": {},
   "source": [
    "#### Number of links $L$"
   ]
  },
  {
   "cell_type": "code",
   "execution_count": 6,
   "metadata": {},
   "outputs": [
    {
     "name": "stdout",
     "output_type": "stream",
     "text": [
      "Number of links = 5321\n"
     ]
    }
   ],
   "source": [
    "number_links = g.ecount()\n",
    "print(\"Number of links = {0}\".format(number_links))"
   ]
  },
  {
   "cell_type": "markdown",
   "metadata": {},
   "source": [
    "###### I've decided to consider Erdos_Renyi graph, in order to see if subscribers make their connections in any specific pattern or in a random way"
   ]
  },
  {
   "cell_type": "code",
   "execution_count": 7,
   "metadata": {},
   "outputs": [],
   "source": [
    "erg = igraph.Graph.Erdos_Renyi(n=number_nodes, m=number_links, directed=False)"
   ]
  },
  {
   "cell_type": "markdown",
   "metadata": {},
   "source": [
    "#### Average node degree $<k>$"
   ]
  },
  {
   "cell_type": "code",
   "execution_count": 8,
   "metadata": {},
   "outputs": [
    {
     "name": "stdout",
     "output_type": "stream",
     "text": [
      "Average node degree = 12.26\n",
      "Average node degree (ER) = 12.26\n"
     ]
    }
   ],
   "source": [
    "g_degree = round(np.mean(g.degree()), 2)\n",
    "erg_degree = round(np.mean(erg.degree()), 2)\n",
    "\n",
    "print(\"Average node degree = {0}\".format(g_degree))\n",
    "print(\"Average node degree (ER) = {0}\".format(erg_degree))"
   ]
  },
  {
   "cell_type": "markdown",
   "metadata": {},
   "source": [
    "#### Min. node degree $k_{min}$"
   ]
  },
  {
   "cell_type": "code",
   "execution_count": 9,
   "metadata": {},
   "outputs": [
    {
     "name": "stdout",
     "output_type": "stream",
     "text": [
      "Min. node degree = 1\n",
      "Min. node degree (ER) = 3\n"
     ]
    }
   ],
   "source": [
    "min_node_degree_g = min(g.degree())\n",
    "min_node_degree_erg = min(erg.degree())\n",
    "\n",
    "print(\"Min. node degree = {0}\".format(min_node_degree_g))\n",
    "print(\"Min. node degree (ER) = {0}\".format(min_node_degree_erg))"
   ]
  },
  {
   "cell_type": "markdown",
   "metadata": {},
   "source": [
    "#### Max. node degree $k_{max}$"
   ]
  },
  {
   "cell_type": "code",
   "execution_count": 10,
   "metadata": {},
   "outputs": [
    {
     "name": "stdout",
     "output_type": "stream",
     "text": [
      "Max. node degree = 743\n",
      "Max. node degree (ER) = 26\n"
     ]
    }
   ],
   "source": [
    "max_node_degree_g = max(g.degree())\n",
    "max_node_degree_erg = max(erg.degree())\n",
    "\n",
    "print(\"Max. node degree = {0}\".format(max_node_degree_g))\n",
    "print(\"Max. node degree (ER) = {0}\".format(max_node_degree_erg))"
   ]
  },
  {
   "cell_type": "markdown",
   "metadata": {},
   "source": [
    "#### Average degree of the nearest neighbour $<knn>$"
   ]
  },
  {
   "cell_type": "code",
   "execution_count": 11,
   "metadata": {},
   "outputs": [],
   "source": [
    "erg_knn = np.array(erg.knn()[0])"
   ]
  },
  {
   "cell_type": "code",
   "execution_count": 12,
   "metadata": {},
   "outputs": [
    {
     "data": {
      "text/plain": [
       "(868, 868)"
      ]
     },
     "execution_count": 12,
     "metadata": {},
     "output_type": "execute_result"
    }
   ],
   "source": [
    "len(erg_knn),len(erg_knn[erg_knn!=np.nanmean])"
   ]
  },
  {
   "cell_type": "code",
   "execution_count": 13,
   "metadata": {},
   "outputs": [
    {
     "name": "stdout",
     "output_type": "stream",
     "text": [
      "Average degree of the nearest neighbour = 374.91\n",
      "Average degree of the nearest neighbour (ER) = 13.21\n"
     ]
    }
   ],
   "source": [
    "g_knn = round(np.mean(g.knn()[0]), 2)\n",
    "erg_knn = round(np.nanmean(erg.knn()[0]), 2)\n",
    "\n",
    "print(\"Average degree of the nearest neighbour = {0}\".format(g_knn))\n",
    "print(\"Average degree of the nearest neighbour (ER) = {0}\".format(erg_knn))"
   ]
  },
  {
   "cell_type": "markdown",
   "metadata": {},
   "source": [
    "#### Assortativity mixing by degrees $r$"
   ]
  },
  {
   "cell_type": "code",
   "execution_count": 14,
   "metadata": {},
   "outputs": [
    {
     "name": "stdout",
     "output_type": "stream",
     "text": [
      "Assortativity mixing by degrees = -0.414\n",
      "Assortativity mixing by degrees (ER) = 0.004\n"
     ]
    }
   ],
   "source": [
    "g_assortativity = round(g.assortativity_degree(), 3)\n",
    "erg_assortativity = round(erg.assortativity_degree(), 3)\n",
    "\n",
    "print(\"Assortativity mixing by degrees = {0}\".format(g_assortativity))\n",
    "print(\"Assortativity mixing by degrees (ER) = {0}\".format(erg_assortativity))"
   ]
  },
  {
   "cell_type": "markdown",
   "metadata": {},
   "source": [
    "#### Size of the largest connected component GCC: number of nodes and % of nodes"
   ]
  },
  {
   "cell_type": "code",
   "execution_count": 15,
   "metadata": {},
   "outputs": [
    {
     "name": "stdout",
     "output_type": "stream",
     "text": [
      "Number of nodes in the LCC = 868\n",
      "Number of nodes in the LCC (ER) = 868\n"
     ]
    }
   ],
   "source": [
    "g_lcc_nodes = g.clusters(mode='weak').giant().vcount()\n",
    "erg_lcc_nodes = erg.clusters(mode='weak').giant().vcount()\n",
    "\n",
    "print(\"Number of nodes in the LCC = {0}\".format(g_lcc_nodes))\n",
    "print(\"Number of nodes in the LCC (ER) = {0}\".format(erg_lcc_nodes))"
   ]
  },
  {
   "cell_type": "code",
   "execution_count": 16,
   "metadata": {},
   "outputs": [
    {
     "name": "stdout",
     "output_type": "stream",
     "text": [
      "% of nodes in the LCC = 1.0\n",
      "% of nodes in the LCC (ER) = 1.0\n"
     ]
    }
   ],
   "source": [
    "g_lcc_nodes = g.clusters(mode='weak').giant().vcount()\n",
    "erg_lcc_nodes = erg.clusters(mode='weak').giant().vcount()\n",
    "\n",
    "print(\"% of nodes in the LCC = {0}\".format(g_lcc_nodes/g.vcount()))\n",
    "print(\"% of nodes in the LCC (ER) = {0}\".format(erg_lcc_nodes/erg.vcount()))"
   ]
  },
  {
   "cell_type": "markdown",
   "metadata": {},
   "source": [
    "#### Average shortest path length $<l>$"
   ]
  },
  {
   "cell_type": "code",
   "execution_count": 17,
   "metadata": {},
   "outputs": [],
   "source": [
    "def avg_sp(paths):\n",
    "    result = []   \n",
    "    for p in paths:\n",
    "        tmp = np.array(p)\n",
    "        result.append(np.mean(tmp[tmp<np.inf]))\n",
    "    return np.mean(result)"
   ]
  },
  {
   "cell_type": "code",
   "execution_count": 18,
   "metadata": {},
   "outputs": [],
   "source": [
    "g_sp = g.shortest_paths()"
   ]
  },
  {
   "cell_type": "code",
   "execution_count": 19,
   "metadata": {},
   "outputs": [],
   "source": [
    "erg_sp = erg.shortest_paths()"
   ]
  },
  {
   "cell_type": "code",
   "execution_count": 20,
   "metadata": {},
   "outputs": [
    {
     "name": "stdout",
     "output_type": "stream",
     "text": [
      "Average shortest path length = 2.059\n",
      "Average shortest path length (ER) = 2.953\n"
     ]
    }
   ],
   "source": [
    "g_avg_sp = round(avg_sp(g_sp),3)\n",
    "erg_avg_sp = round(avg_sp(erg_sp),3)\n",
    "\n",
    "print(\"Average shortest path length = {0}\".format(g_avg_sp))\n",
    "print(\"Average shortest path length (ER) = {0}\".format(erg_avg_sp))"
   ]
  },
  {
   "cell_type": "code",
   "execution_count": 21,
   "metadata": {},
   "outputs": [
    {
     "name": "stdout",
     "output_type": "stream",
     "text": [
      "Average shortest path length = 2.061667171612478\n",
      "Average shortest path length (ER) = 2.9563088992712836\n"
     ]
    }
   ],
   "source": [
    "print(\"Average shortest path length = {0}\".format(g.average_path_length(directed=False)))\n",
    "print(\"Average shortest path length (ER) = {0}\".format(erg.average_path_length(directed=False)))"
   ]
  },
  {
   "cell_type": "code",
   "execution_count": 22,
   "metadata": {},
   "outputs": [
    {
     "name": "stdout",
     "output_type": "stream",
     "text": [
      "1\n"
     ]
    }
   ],
   "source": [
    "print(len(g.components()))"
   ]
  },
  {
   "cell_type": "code",
   "execution_count": 23,
   "metadata": {},
   "outputs": [
    {
     "name": "stdout",
     "output_type": "stream",
     "text": [
      "1\n"
     ]
    }
   ],
   "source": [
    "print(len(erg.components()))"
   ]
  },
  {
   "cell_type": "markdown",
   "metadata": {},
   "source": [
    "#### Diameter of the network (max value of shortest path length) $l_{max}$"
   ]
  },
  {
   "cell_type": "code",
   "execution_count": 24,
   "metadata": {},
   "outputs": [],
   "source": [
    "def max_sp(paths):\n",
    "    result = []\n",
    "    \n",
    "    for p in paths:\n",
    "        tmp = np.array(p)\n",
    "        result.append(np.mean(tmp[tmp<np.inf]))\n",
    "    return max(result)"
   ]
  },
  {
   "cell_type": "code",
   "execution_count": 25,
   "metadata": {},
   "outputs": [
    {
     "name": "stdout",
     "output_type": "stream",
     "text": [
      "Average shortest path length = 3.122\n",
      "Average shortest path length (ER) = 3.538\n"
     ]
    }
   ],
   "source": [
    "g_max_sp = round(max_sp(g_sp),3)\n",
    "erg_max_sp = round(max_sp(erg_sp),3)\n",
    "\n",
    "print(\"Average shortest path length = {0}\".format(g_max_sp))\n",
    "print(\"Average shortest path length (ER) = {0}\".format(erg_max_sp))"
   ]
  },
  {
   "cell_type": "code",
   "execution_count": 26,
   "metadata": {},
   "outputs": [
    {
     "name": "stdout",
     "output_type": "stream",
     "text": [
      "Average shortest path length = 4\n",
      "Average shortest path length (ER) = 5\n"
     ]
    }
   ],
   "source": [
    "print(\"Average shortest path length = {0}\".format(g.diameter()))\n",
    "print(\"Average shortest path length (ER) = {0}\".format(erg.diameter()))"
   ]
  },
  {
   "cell_type": "markdown",
   "metadata": {},
   "source": [
    "#### Global transitivity $C$"
   ]
  },
  {
   "cell_type": "code",
   "execution_count": 27,
   "metadata": {},
   "outputs": [
    {
     "name": "stdout",
     "output_type": "stream",
     "text": [
      "Global transitivity = 0.07\n",
      "Global transitivity (ER) = 0.014\n"
     ]
    }
   ],
   "source": [
    "g_transitivity = round(g.transitivity_undirected(),3)\n",
    "erg_transitivity = round(erg.transitivity_undirected(),3)\n",
    "\n",
    "print(\"Global transitivity = {0}\".format(g_transitivity))\n",
    "print(\"Global transitivity (ER) = {0}\".format(erg_transitivity))"
   ]
  },
  {
   "cell_type": "markdown",
   "metadata": {},
   "source": [
    "#### Average clustering coefficient $<c>$"
   ]
  },
  {
   "cell_type": "code",
   "execution_count": 28,
   "metadata": {},
   "outputs": [
    {
     "data": {
      "text/plain": [
       "0.8936279316341452"
      ]
     },
     "execution_count": 28,
     "metadata": {},
     "output_type": "execute_result"
    }
   ],
   "source": [
    "np.nanmean(g.transitivity_local_undirected())"
   ]
  },
  {
   "cell_type": "code",
   "execution_count": 29,
   "metadata": {},
   "outputs": [
    {
     "data": {
      "text/plain": [
       "0.8936279316341451"
      ]
     },
     "execution_count": 29,
     "metadata": {},
     "output_type": "execute_result"
    }
   ],
   "source": [
    "g.transitivity_avglocal_undirected()"
   ]
  },
  {
   "cell_type": "code",
   "execution_count": 30,
   "metadata": {},
   "outputs": [
    {
     "data": {
      "text/plain": [
       "0.013945819312878626"
      ]
     },
     "execution_count": 30,
     "metadata": {},
     "output_type": "execute_result"
    }
   ],
   "source": [
    "np.nanmean(erg.transitivity_local_undirected())"
   ]
  },
  {
   "cell_type": "code",
   "execution_count": 31,
   "metadata": {},
   "outputs": [
    {
     "data": {
      "text/plain": [
       "0.01394581931287865"
      ]
     },
     "execution_count": 31,
     "metadata": {},
     "output_type": "execute_result"
    }
   ],
   "source": [
    "erg.transitivity_avglocal_undirected()"
   ]
  },
  {
   "cell_type": "markdown",
   "metadata": {},
   "source": [
    "#### Average betweenness centrality $<b>$"
   ]
  },
  {
   "cell_type": "code",
   "execution_count": 32,
   "metadata": {},
   "outputs": [
    {
     "name": "stdout",
     "output_type": "stream",
     "text": [
      "Average betweenness centrality = 145.792\n",
      "Average betweenness centrality (ER) = 209.057\n"
     ]
    }
   ],
   "source": [
    "g_betweenness = round(np.mean(g.edge_betweenness()),3)\n",
    "erg_betweenness = round(np.mean(erg.edge_betweenness()),3)\n",
    "\n",
    "print(\"Average betweenness centrality = {0}\".format(g_betweenness))\n",
    "print(\"Average betweenness centrality (ER) = {0}\".format(erg_betweenness))"
   ]
  },
  {
   "cell_type": "code",
   "execution_count": 33,
   "metadata": {},
   "outputs": [
    {
     "data": {
      "text/plain": [
       "460.23271889400866"
      ]
     },
     "execution_count": 33,
     "metadata": {},
     "output_type": "execute_result"
    }
   ],
   "source": [
    "np.mean(g.betweenness(directed=False))"
   ]
  },
  {
   "cell_type": "code",
   "execution_count": 34,
   "metadata": {},
   "outputs": [
    {
     "data": {
      "text/plain": [
       "848.0599078341011"
      ]
     },
     "execution_count": 34,
     "metadata": {},
     "output_type": "execute_result"
    }
   ],
   "source": [
    "np.mean(erg.betweenness())"
   ]
  },
  {
   "cell_type": "code",
   "execution_count": 35,
   "metadata": {},
   "outputs": [],
   "source": [
    "import seaborn as sn"
   ]
  },
  {
   "cell_type": "markdown",
   "metadata": {},
   "source": [
    "<br/><br/>\n",
    "### Degree distribution"
   ]
  },
  {
   "cell_type": "code",
   "execution_count": 36,
   "metadata": {},
   "outputs": [],
   "source": [
    "# g_dd = g.degree_distribution().__plot__\n",
    "# erg_dd = erg.degree_distribution()"
   ]
  },
  {
   "cell_type": "code",
   "execution_count": 37,
   "metadata": {},
   "outputs": [],
   "source": [
    "g_d = g.degree()\n",
    "g_d_unique, g_d_counts = np.unique(g_d, return_counts=True)\n",
    "\n",
    "erg_d = erg.degree()\n",
    "erg_d_unique, erg_d_counts = np.unique(erg_d, return_counts=True)"
   ]
  },
  {
   "cell_type": "code",
   "execution_count": 38,
   "metadata": {},
   "outputs": [
    {
     "data": {
      "text/plain": [
       "<Figure size 640x480 with 0 Axes>"
      ]
     },
     "execution_count": 38,
     "metadata": {},
     "output_type": "execute_result"
    },
    {
     "data": {
      "text/plain": [
       "<Figure size 640x480 with 0 Axes>"
      ]
     },
     "metadata": {},
     "output_type": "display_data"
    }
   ],
   "source": [
    "figure(num=None, figsize=(8, 6), dpi=80, facecolor='w', edgecolor='k')"
   ]
  },
  {
   "cell_type": "code",
   "execution_count": 39,
   "metadata": {},
   "outputs": [
    {
     "data": {
      "image/png": "[encoded data removed]",
      "text/plain": [
       "<Figure size 792x504 with 1 Axes>"
      ]
     },
     "metadata": {
      "needs_background": "light"
     },
     "output_type": "display_data"
    }
   ],
   "source": [
    "figure(figsize=(11,7))\n",
    "\n",
    "plt.scatter(x = g_d_unique,\n",
    "            y = g_d_counts, \n",
    "            alpha=0.5)\n",
    "\n",
    "plt.title('Nodes degree distribution')\n",
    "plt.xlabel('degree')\n",
    "plt.ylabel('count')\n",
    "\n",
    "plt.grid(True)\n",
    "\n",
    "plt.grid(linestyle='dashed')\n",
    "plt.show() # show the plot"
   ]
  },
  {
   "cell_type": "code",
   "execution_count": 40,
   "metadata": {},
   "outputs": [
    {
     "data": {
      "image/png": "[encoded data removed]",
      "text/plain": [
       "<Figure size 792x504 with 1 Axes>"
      ]
     },
     "metadata": {
      "needs_background": "light"
     },
     "output_type": "display_data"
    }
   ],
   "source": [
    "figure(figsize=(11,7))\n",
    "\n",
    "plt.scatter(x = g_d_unique,\n",
    "            y = g_d_counts, \n",
    "            alpha=0.5)\n",
    "\n",
    "plt.title('Node degree distribution with log scale')\n",
    "plt.xlabel('degree')\n",
    "plt.ylabel('count')\n",
    "\n",
    "plt.grid(True)\n",
    "\n",
    "plt.yscale('symlog')\n",
    "plt.xscale('symlog')\n",
    "plt.grid(linestyle='dashed')\n",
    "plt.show() # show the plot"
   ]
  },
  {
   "cell_type": "code",
   "execution_count": 41,
   "metadata": {},
   "outputs": [
    {
     "data": {
      "image/png": "[encoded data removed]",
      "text/plain": [
       "<Figure size 792x504 with 1 Axes>"
      ]
     },
     "metadata": {
      "needs_background": "light"
     },
     "output_type": "display_data"
    }
   ],
   "source": [
    "figure(figsize=(11,7))\n",
    "\n",
    "plt.scatter(x = erg_d_unique,\n",
    "            y = erg_d_counts, \n",
    "            alpha=0.5)\n",
    "\n",
    "plt.title('ER graph degree distribution')\n",
    "plt.xlabel('degree')\n",
    "plt.ylabel('count')\n",
    "\n",
    "plt.grid(True)\n",
    "\n",
    "plt.grid(linestyle='dashed')\n",
    "plt.show() # show the plot"
   ]
  },
  {
   "cell_type": "code",
   "execution_count": 42,
   "metadata": {},
   "outputs": [
    {
     "data": {
      "image/png": "[encoded data removed]",
      "text/plain": [
       "<Figure size 792x504 with 1 Axes>"
      ]
     },
     "metadata": {
      "needs_background": "light"
     },
     "output_type": "display_data"
    }
   ],
   "source": [
    "figure(figsize=(11,7))\n",
    "\n",
    "plt.scatter(x = erg_d_unique,\n",
    "            y = erg_d_counts, \n",
    "            )\n",
    "\n",
    "plt.title('Graph degree distribution with log scale')\n",
    "plt.xlabel('degree')\n",
    "plt.ylabel('count')\n",
    "\n",
    "plt.grid(True)\n",
    "\n",
    "plt.yscale('symlog')\n",
    "plt.xscale('symlog')\n",
    "plt.grid(linestyle='dashed')\n",
    "plt.show() # show the plot"
   ]
  },
  {
   "cell_type": "markdown",
   "metadata": {},
   "source": [
    "## Correlations"
   ]
  },
  {
   "cell_type": "markdown",
   "metadata": {},
   "source": [
    "#### Node clustering coefficient $c$ vs node degree $k: c(k)$"
   ]
  },
  {
   "cell_type": "code",
   "execution_count": 43,
   "metadata": {},
   "outputs": [
    {
     "data": {
      "image/png": "[encoded data removed]",
      "text/plain": [
       "<Figure size 720x360 with 1 Axes>"
      ]
     },
     "metadata": {
      "needs_background": "light"
     },
     "output_type": "display_data"
    }
   ],
   "source": [
    "plt.figure(figsize=(10,5))\n",
    "plt.title('Node clustering coefficient over node degree in subscribers network')\n",
    "plt.scatter(g.degree(),g.transitivity_local_undirected())\n",
    "plt.show()"
   ]
  },
  {
   "cell_type": "code",
   "execution_count": 44,
   "metadata": {},
   "outputs": [],
   "source": [
    "import seaborn as sns"
   ]
  },
  {
   "cell_type": "code",
   "execution_count": 45,
   "metadata": {},
   "outputs": [],
   "source": [
    "cliques = np.array(list(map(len,g.cliques())))"
   ]
  },
  {
   "cell_type": "code",
   "execution_count": 46,
   "metadata": {},
   "outputs": [
    {
     "data": {
      "text/plain": [
       "(21207, 65128, 155153, 2305390)"
      ]
     },
     "execution_count": 46,
     "metadata": {},
     "output_type": "execute_result"
    }
   ],
   "source": [
    "sum(cliques==3),sum(cliques==4),sum(cliques==5),sum(cliques>5)"
   ]
  },
  {
   "cell_type": "code",
   "execution_count": 47,
   "metadata": {},
   "outputs": [
    {
     "data": {
      "text/plain": [
       "<BarContainer object of 3 artists>"
      ]
     },
     "execution_count": 47,
     "metadata": {},
     "output_type": "execute_result"
    },
    {
     "data": {
      "image/png": "[encoded data removed]",
      "text/plain": [
       "<Figure size 432x288 with 1 Axes>"
      ]
     },
     "metadata": {
      "needs_background": "light"
     },
     "output_type": "display_data"
    }
   ],
   "source": [
    "plt.bar([3,4,5],[1306,125,7])"
   ]
  },
  {
   "cell_type": "code",
   "execution_count": 48,
   "metadata": {},
   "outputs": [
    {
     "data": {
      "image/png": "[encoded data removed]",
      "text/plain": [
       "<Figure size 720x360 with 1 Axes>"
      ]
     },
     "metadata": {
      "needs_background": "light"
     },
     "output_type": "display_data"
    }
   ],
   "source": [
    "plt.figure(figsize=(10,5))\n",
    "plt.title('Node clustering coefficient over node degree in random graph')\n",
    "plt.scatter(erg.degree(),erg.transitivity_local_undirected())\n",
    "plt.show()"
   ]
  },
  {
   "cell_type": "markdown",
   "metadata": {},
   "source": [
    "#### Average shortest path length $l$ from node to other nodes vs node degrees $k$"
   ]
  },
  {
   "cell_type": "code",
   "execution_count": 49,
   "metadata": {},
   "outputs": [
    {
     "data": {
      "text/plain": [
       "(868, 868)"
      ]
     },
     "execution_count": 49,
     "metadata": {},
     "output_type": "execute_result"
    }
   ],
   "source": [
    "np.array(g_sp).shape"
   ]
  },
  {
   "cell_type": "code",
   "execution_count": 50,
   "metadata": {},
   "outputs": [
    {
     "data": {
      "image/png": "[encoded data removed]",
      "text/plain": [
       "<Figure size 720x360 with 1 Axes>"
      ]
     },
     "metadata": {
      "needs_background": "light"
     },
     "output_type": "display_data"
    }
   ],
   "source": [
    "plt.figure(figsize=(10,5))\n",
    "plt.title('Average shortest path over node degree in initial for ER graph')\n",
    "plt.scatter(g.degree(),list(map(lambda x: np.mean(np.array(x)[np.array(x)<np.inf]),g_sp)))\n",
    "plt.show()"
   ]
  },
  {
   "cell_type": "markdown",
   "metadata": {},
   "source": [
    "### Community structure of the network using Louvain algorithm"
   ]
  },
  {
   "cell_type": "code",
   "execution_count": 51,
   "metadata": {},
   "outputs": [],
   "source": [
    "p = g.community_multilevel()"
   ]
  },
  {
   "cell_type": "markdown",
   "metadata": {},
   "source": [
    "#### Modularity $Q$ of the optimal partition"
   ]
  },
  {
   "cell_type": "code",
   "execution_count": 52,
   "metadata": {},
   "outputs": [],
   "source": [
    "q = g.modularity(p)"
   ]
  },
  {
   "cell_type": "code",
   "execution_count": 53,
   "metadata": {},
   "outputs": [
    {
     "name": "stdout",
     "output_type": "stream",
     "text": [
      "0.22930267363367993\n"
     ]
    }
   ],
   "source": [
    "print(q)"
   ]
  },
  {
   "cell_type": "markdown",
   "metadata": {},
   "source": [
    "#### The number $n_c$ of clusters in optimal partition"
   ]
  },
  {
   "cell_type": "code",
   "execution_count": 54,
   "metadata": {},
   "outputs": [
    {
     "data": {
      "text/plain": [
       "11"
      ]
     },
     "execution_count": 54,
     "metadata": {},
     "output_type": "execute_result"
    }
   ],
   "source": [
    "len(p)"
   ]
  },
  {
   "cell_type": "markdown",
   "metadata": {},
   "source": [
    "#### Distribution of cluster sizes of the optimal partition $P(n_c)$"
   ]
  },
  {
   "cell_type": "code",
   "execution_count": 55,
   "metadata": {},
   "outputs": [],
   "source": [
    "import seaborn as sns"
   ]
  },
  {
   "cell_type": "code",
   "execution_count": 56,
   "metadata": {},
   "outputs": [],
   "source": [
    "clusters_sizes = np.array(list(map(len,p)))"
   ]
  },
  {
   "cell_type": "code",
   "execution_count": 57,
   "metadata": {},
   "outputs": [],
   "source": [
    "comps = np.array(list(map(len,g.components())))"
   ]
  },
  {
   "cell_type": "code",
   "execution_count": 58,
   "metadata": {},
   "outputs": [
    {
     "data": {
      "text/plain": [
       "[<matplotlib.lines.Line2D at 0x7fe1eb716c10>]"
      ]
     },
     "execution_count": 58,
     "metadata": {},
     "output_type": "execute_result"
    },
    {
     "data": {
      "image/png": "[encoded data removed]",
      "text/plain": [
       "<Figure size 432x288 with 1 Axes>"
      ]
     },
     "metadata": {
      "needs_background": "light"
     },
     "output_type": "display_data"
    }
   ],
   "source": [
    "plt.plot(np.sort(comps))"
   ]
  },
  {
   "cell_type": "code",
   "execution_count": 59,
   "metadata": {},
   "outputs": [
    {
     "name": "stderr",
     "output_type": "stream",
     "text": [
      "/Users/akurochkin/opt/anaconda3/lib/python3.9/site-packages/seaborn/distributions.py:2619: FutureWarning: `distplot` is a deprecated function and will be removed in a future version. Please adapt your code to use either `displot` (a figure-level function with similar flexibility) or `histplot` (an axes-level function for histograms).\n",
      "  warnings.warn(msg, FutureWarning)\n",
      "/Users/akurochkin/opt/anaconda3/lib/python3.9/site-packages/seaborn/distributions.py:316: UserWarning: Dataset has 0 variance; skipping density estimate. Pass `warn_singular=False` to disable this warning.\n",
      "  warnings.warn(msg, UserWarning)\n"
     ]
    },
    {
     "data": {
      "image/png": "[encoded data removed]",
      "text/plain": [
       "<Figure size 720x360 with 1 Axes>"
      ]
     },
     "metadata": {
      "needs_background": "light"
     },
     "output_type": "display_data"
    }
   ],
   "source": [
    "plt.figure(figsize=(10,5))\n",
    "plt.title('Size of clusters distribution')\n",
    "sns.distplot(comps,bins=3)\n",
    "plt.show()"
   ]
  },
  {
   "cell_type": "markdown",
   "metadata": {},
   "source": [
    "# HW2"
   ]
  },
  {
   "cell_type": "markdown",
   "metadata": {},
   "source": [
    "# Task 2"
   ]
  },
  {
   "cell_type": "markdown",
   "metadata": {},
   "source": [
    "###### Local clustering coefficient as a function of node degree k (note: for plot to look better, average Cfor all the nodes with given k)"
   ]
  },
  {
   "cell_type": "code",
   "execution_count": 60,
   "metadata": {},
   "outputs": [],
   "source": [
    "data = pd.DataFrame(columns=['lcc','deg'])\n",
    "data['lcc'] = g.transitivity_local_undirected()\n",
    "data['deg'] = g.degree()\n",
    "to_plot = data.groupby('deg').agg({'lcc':np.nanmean}).dropna().reset_index()"
   ]
  },
  {
   "cell_type": "code",
   "execution_count": 61,
   "metadata": {},
   "outputs": [
    {
     "data": {
      "image/png": "[encoded data removed]",
      "text/plain": [
       "<Figure size 720x360 with 1 Axes>"
      ]
     },
     "metadata": {
      "needs_background": "light"
     },
     "output_type": "display_data"
    }
   ],
   "source": [
    "plt.figure(figsize=(10,5))\n",
    "plt.title('Local clustering coefficient over node degree')\n",
    "plt.scatter(x=to_plot['deg'],y=to_plot['lcc'])\n",
    "#plt.yscale('log')\n",
    "#plt.xscale('log')\n",
    "plt.show()"
   ]
  },
  {
   "cell_type": "markdown",
   "metadata": {},
   "source": [
    "###### Betweenness centrality of a node $k$ vs its’ degree $kC^B(k)$"
   ]
  },
  {
   "cell_type": "code",
   "execution_count": 62,
   "metadata": {},
   "outputs": [],
   "source": [
    "data = pd.DataFrame(columns=['btw','deg'])\n",
    "data['btw'] = g.betweenness(directed=False)\n",
    "data['deg'] = g.degree()\n",
    "to_plot = data.groupby('deg').agg({'btw':np.nanmean}).dropna().reset_index()"
   ]
  },
  {
   "cell_type": "code",
   "execution_count": 63,
   "metadata": {},
   "outputs": [
    {
     "data": {
      "image/png": "[encoded data removed]",
      "text/plain": [
       "<Figure size 720x360 with 1 Axes>"
      ]
     },
     "metadata": {
      "needs_background": "light"
     },
     "output_type": "display_data"
    }
   ],
   "source": [
    "plt.figure(figsize=(10,5))\n",
    "plt.title('Betweenness centrality over node degree')\n",
    "plt.scatter(x=to_plot['deg'],y=to_plot['btw'])\n",
    "plt.show()"
   ]
  },
  {
   "cell_type": "markdown",
   "metadata": {},
   "source": [
    "<h6> Plot distribution (for your network and corresponding Erdos-Renyi graph). Fit themwith power-law function and exponential function (do not forget to calculate ratio chi2/Ndof)<br></h6>\n",
    "a.Distribution of node degrees P(k)<br>\n",
    "b.Cumulative node degree distribution<br>\n",
    "c.Distribution of shortest paths length P(l)<br>\n",
    "d.Distribution of local clustering coefficients P(C)<br>\n"
   ]
  },
  {
   "cell_type": "markdown",
   "metadata": {},
   "source": [
    "###### a.Distribution of node degrees P(k)"
   ]
  },
  {
   "cell_type": "code",
   "execution_count": 64,
   "metadata": {},
   "outputs": [],
   "source": [
    "data_regression = pd.DataFrame(g.degree(),columns=['node_degree'])\n",
    "data_regression['degree_counts'] = 1\n",
    "data_regression = data_regression.groupby('node_degree').agg({'degree_counts':'sum'})\n",
    "data_regression.reset_index(inplace=True)\n",
    "\n",
    "data_regression['log_node_degree'] = np.log(data_regression['node_degree'])\n",
    "data_regression['log_degree_counts'] = np.log(data_regression['degree_counts']) "
   ]
  },
  {
   "cell_type": "code",
   "execution_count": 65,
   "metadata": {},
   "outputs": [],
   "source": [
    "lr_degrees_power = LinearRegression()"
   ]
  },
  {
   "cell_type": "code",
   "execution_count": 66,
   "metadata": {},
   "outputs": [
    {
     "data": {
      "text/plain": [
       "LinearRegression()"
      ]
     },
     "execution_count": 66,
     "metadata": {},
     "output_type": "execute_result"
    }
   ],
   "source": [
    "lr_degrees_power.fit(data_regression[['log_node_degree']],data_regression[['log_degree_counts']])"
   ]
  },
  {
   "cell_type": "code",
   "execution_count": 67,
   "metadata": {},
   "outputs": [
    {
     "data": {
      "text/plain": [
       "(array([4.81719141]), array([[-0.94837817]]))"
      ]
     },
     "execution_count": 67,
     "metadata": {},
     "output_type": "execute_result"
    }
   ],
   "source": [
    "# Linear regression coefficients \n",
    "lr_degrees_power.intercept_,lr_degrees_power.coef_"
   ]
  },
  {
   "cell_type": "code",
   "execution_count": 68,
   "metadata": {},
   "outputs": [],
   "source": [
    "data_regression['prediction_lr_degreess_power'] = np.exp(8.75106327 + np.log(data_regression['node_degree']) * (-2.43505701))"
   ]
  },
  {
   "cell_type": "code",
   "execution_count": 69,
   "metadata": {},
   "outputs": [
    {
     "data": {
      "image/png": "[encoded data removed]",
      "text/plain": [
       "<Figure size 792x504 with 1 Axes>"
      ]
     },
     "metadata": {
      "needs_background": "light"
     },
     "output_type": "display_data"
    }
   ],
   "source": [
    "figure(figsize=(11,7))\n",
    "\n",
    "plt.scatter(x = g_d_unique,\n",
    "            y = g_d_counts, \n",
    "            alpha=0.5)\n",
    "plt.title('Nodes degree distribution with linear regressor in log-log scale')\n",
    "plt.plot([x for x in range(1,51)],[np.exp(8.75106327 + np.log(x) * (-2.43505701)) for x in range(1,51)],\n",
    "        linewidth=2,color='r')\n",
    "plt.xlabel('degree')\n",
    "plt.ylabel('count')\n",
    "\n",
    "plt.grid(True)\n",
    "\n",
    "plt.yscale('log')\n",
    "plt.xscale('log')\n",
    "plt.grid(linestyle='dashed')\n",
    "plt.show() # show the plot\n",
    "\n",
    "# plt.scatter([x for x in range(1,51)],[8.75106327+ np.log(x) * (-2.43505701) for x in range(1,51)])\n",
    "# plt.scatter(data_regression[0],data_regression['log_counts'])"
   ]
  },
  {
   "cell_type": "code",
   "execution_count": 70,
   "metadata": {},
   "outputs": [],
   "source": [
    "lr_node_exponential = LinearRegression()"
   ]
  },
  {
   "cell_type": "code",
   "execution_count": 71,
   "metadata": {},
   "outputs": [
    {
     "data": {
      "text/plain": [
       "LinearRegression()"
      ]
     },
     "execution_count": 71,
     "metadata": {},
     "output_type": "execute_result"
    }
   ],
   "source": [
    "lr_node_exponential.fit(data_regression[['node_degree']],data_regression[['log_degree_counts']])"
   ]
  },
  {
   "cell_type": "code",
   "execution_count": 72,
   "metadata": {},
   "outputs": [
    {
     "data": {
      "text/plain": [
       "(array([1.93831565]), array([[-0.00504351]]))"
      ]
     },
     "execution_count": 72,
     "metadata": {},
     "output_type": "execute_result"
    }
   ],
   "source": [
    "lr_node_exponential.intercept_,lr_node_exponential.coef_"
   ]
  },
  {
   "cell_type": "code",
   "execution_count": 73,
   "metadata": {},
   "outputs": [],
   "source": [
    "data_regression['prediction_lr_degreess_exponential'] = np.exp(5.60650973 + (data_regression['node_degree']) * (-0.18003321))"
   ]
  },
  {
   "cell_type": "code",
   "execution_count": 74,
   "metadata": {
    "scrolled": false
   },
   "outputs": [
    {
     "data": {
      "image/png": "[encoded data removed]",
      "text/plain": [
       "<Figure size 792x504 with 1 Axes>"
      ]
     },
     "metadata": {
      "needs_background": "light"
     },
     "output_type": "display_data"
    }
   ],
   "source": [
    "figure(figsize=(11,7))\n",
    "\n",
    "plt.scatter(x = g_d_unique,\n",
    "            y = g_d_counts, \n",
    "            alpha=0.5)\n",
    "plt.title('Nodes degree distribution in log-log scale')\n",
    "plt.scatter([x for x in range(1,51)],[np.exp(5.60650973+ x * (-0.18003321))  for x in range(1,51)])\n",
    "plt.xlabel('degree')\n",
    "plt.ylabel('count')\n",
    "\n",
    "plt.grid(True)\n",
    "\n",
    "plt.yscale('log')\n",
    "plt.xscale('log')\n",
    "plt.grid(linestyle='dashed')\n",
    "plt.show() # show the plot\n",
    "\n",
    "# plt.scatter([x for x in range(1,51)],[np.exp(5.60650973+ x * (-0.18003321)) for x in range(1,51)])\n",
    "# plt.scatter(data_regression[0],data_regression['counts'])"
   ]
  },
  {
   "cell_type": "code",
   "execution_count": null,
   "metadata": {},
   "outputs": [],
   "source": []
  },
  {
   "cell_type": "code",
   "execution_count": 77,
   "metadata": {},
   "outputs": [],
   "source": [
    "# TODO: fix line below\n",
    "# print('Chi2 statistics for power-law function: {0}'.format(stats.chisquare(data_regression['degree_counts'], data_regression['prediction_lr_degreess_power'])))"
   ]
  },
  {
   "cell_type": "code",
   "execution_count": 78,
   "metadata": {},
   "outputs": [],
   "source": [
    "# TODO: fix line below\n",
    "# print('Chi2 statistics for exponential function: {0}'.format(stats.chisquare(data_regression['degree_counts'], data_regression['prediction_lr_degreess_exponential'])))"
   ]
  },
  {
   "cell_type": "markdown",
   "metadata": {},
   "source": [
    "###### b.Cumulative node degree distribution"
   ]
  },
  {
   "cell_type": "code",
   "execution_count": 79,
   "metadata": {},
   "outputs": [],
   "source": [
    "data_regression['cumulative_node_degree'] = np.cumsum(data_regression['degree_counts'][::-1])[::-1]"
   ]
  },
  {
   "cell_type": "code",
   "execution_count": 80,
   "metadata": {},
   "outputs": [],
   "source": [
    "data_regression['log_cumulative_node_degree'] = np.log(data_regression['cumulative_node_degree'])"
   ]
  },
  {
   "cell_type": "code",
   "execution_count": 81,
   "metadata": {},
   "outputs": [],
   "source": [
    "lr_cum_degrees_power = LinearRegression()"
   ]
  },
  {
   "cell_type": "code",
   "execution_count": 82,
   "metadata": {},
   "outputs": [
    {
     "data": {
      "text/plain": [
       "LinearRegression()"
      ]
     },
     "execution_count": 82,
     "metadata": {},
     "output_type": "execute_result"
    }
   ],
   "source": [
    "lr_cum_degrees_power.fit(data_regression[['log_node_degree']],data_regression[['log_cumulative_node_degree']])"
   ]
  },
  {
   "cell_type": "code",
   "execution_count": 83,
   "metadata": {},
   "outputs": [
    {
     "data": {
      "text/plain": [
       "(array([7.56181087]), array([[-1.07622381]]))"
      ]
     },
     "execution_count": 83,
     "metadata": {},
     "output_type": "execute_result"
    }
   ],
   "source": [
    "# Linear regression coefficients \n",
    "lr_cum_degrees_power.intercept_,lr_cum_degrees_power.coef_"
   ]
  },
  {
   "cell_type": "code",
   "execution_count": 84,
   "metadata": {},
   "outputs": [],
   "source": [
    "data_regression['pred_cumulativ_degreess_power'] = np.exp(10.12066213 + np.log(data_regression['node_degree']) * (-2.51804516))"
   ]
  },
  {
   "cell_type": "code",
   "execution_count": 85,
   "metadata": {},
   "outputs": [
    {
     "data": {
      "text/html": [
       "<div>\n",
       "<style scoped>\n",
       "    .dataframe tbody tr th:only-of-type {\n",
       "        vertical-align: middle;\n",
       "    }\n",
       "\n",
       "    .dataframe tbody tr th {\n",
       "        vertical-align: top;\n",
       "    }\n",
       "\n",
       "    .dataframe thead th {\n",
       "        text-align: right;\n",
       "    }\n",
       "</style>\n",
       "<table border=\"1\" class=\"dataframe\">\n",
       "  <thead>\n",
       "    <tr style=\"text-align: right;\">\n",
       "      <th></th>\n",
       "      <th>node_degree</th>\n",
       "      <th>degree_counts</th>\n",
       "      <th>log_node_degree</th>\n",
       "      <th>log_degree_counts</th>\n",
       "      <th>prediction_lr_degreess_power</th>\n",
       "      <th>prediction_lr_degreess_exponential</th>\n",
       "      <th>cumulative_node_degree</th>\n",
       "      <th>log_cumulative_node_degree</th>\n",
       "      <th>pred_cumulativ_degreess_power</th>\n",
       "    </tr>\n",
       "  </thead>\n",
       "  <tbody>\n",
       "    <tr>\n",
       "      <th>0</th>\n",
       "      <td>1</td>\n",
       "      <td>69</td>\n",
       "      <td>0.000000</td>\n",
       "      <td>4.234107</td>\n",
       "      <td>6317.401642</td>\n",
       "      <td>227.346781</td>\n",
       "      <td>868</td>\n",
       "      <td>6.766192</td>\n",
       "      <td>24851.220127</td>\n",
       "    </tr>\n",
       "    <tr>\n",
       "      <th>1</th>\n",
       "      <td>2</td>\n",
       "      <td>132</td>\n",
       "      <td>0.693147</td>\n",
       "      <td>4.882802</td>\n",
       "      <td>1168.189472</td>\n",
       "      <td>189.889687</td>\n",
       "      <td>799</td>\n",
       "      <td>6.683361</td>\n",
       "      <td>4338.509899</td>\n",
       "    </tr>\n",
       "    <tr>\n",
       "      <th>2</th>\n",
       "      <td>3</td>\n",
       "      <td>121</td>\n",
       "      <td>1.098612</td>\n",
       "      <td>4.795791</td>\n",
       "      <td>435.232215</td>\n",
       "      <td>158.603932</td>\n",
       "      <td>667</td>\n",
       "      <td>6.502790</td>\n",
       "      <td>1562.913167</td>\n",
       "    </tr>\n",
       "    <tr>\n",
       "      <th>3</th>\n",
       "      <td>4</td>\n",
       "      <td>81</td>\n",
       "      <td>1.386294</td>\n",
       "      <td>4.394449</td>\n",
       "      <td>216.017078</td>\n",
       "      <td>132.472740</td>\n",
       "      <td>546</td>\n",
       "      <td>6.302619</td>\n",
       "      <td>757.414245</td>\n",
       "    </tr>\n",
       "    <tr>\n",
       "      <th>4</th>\n",
       "      <td>5</td>\n",
       "      <td>63</td>\n",
       "      <td>1.609438</td>\n",
       "      <td>4.143135</td>\n",
       "      <td>125.460404</td>\n",
       "      <td>110.646859</td>\n",
       "      <td>465</td>\n",
       "      <td>6.142037</td>\n",
       "      <td>431.826887</td>\n",
       "    </tr>\n",
       "  </tbody>\n",
       "</table>\n",
       "</div>"
      ],
      "text/plain": [
       "   node_degree  degree_counts  log_node_degree  log_degree_counts  \\\n",
       "0            1             69         0.000000           4.234107   \n",
       "1            2            132         0.693147           4.882802   \n",
       "2            3            121         1.098612           4.795791   \n",
       "3            4             81         1.386294           4.394449   \n",
       "4            5             63         1.609438           4.143135   \n",
       "\n",
       "   prediction_lr_degreess_power  prediction_lr_degreess_exponential  \\\n",
       "0                   6317.401642                          227.346781   \n",
       "1                   1168.189472                          189.889687   \n",
       "2                    435.232215                          158.603932   \n",
       "3                    216.017078                          132.472740   \n",
       "4                    125.460404                          110.646859   \n",
       "\n",
       "   cumulative_node_degree  log_cumulative_node_degree  \\\n",
       "0                     868                    6.766192   \n",
       "1                     799                    6.683361   \n",
       "2                     667                    6.502790   \n",
       "3                     546                    6.302619   \n",
       "4                     465                    6.142037   \n",
       "\n",
       "   pred_cumulativ_degreess_power  \n",
       "0                   24851.220127  \n",
       "1                    4338.509899  \n",
       "2                    1562.913167  \n",
       "3                     757.414245  \n",
       "4                     431.826887  "
      ]
     },
     "execution_count": 85,
     "metadata": {},
     "output_type": "execute_result"
    }
   ],
   "source": [
    "data_regression.head()"
   ]
  },
  {
   "cell_type": "code",
   "execution_count": 86,
   "metadata": {},
   "outputs": [
    {
     "data": {
      "image/png": "[encoded data removed]",
      "text/plain": [
       "<Figure size 792x504 with 1 Axes>"
      ]
     },
     "metadata": {
      "needs_background": "light"
     },
     "output_type": "display_data"
    }
   ],
   "source": [
    "figure(figsize=(11,7))\n",
    "\n",
    "plt.scatter(x = data_regression['node_degree'],\n",
    "            y = data_regression['cumulative_node_degree'], \n",
    "            alpha=0.5)\n",
    "plt.title('Graph degree distribution with log scale')\n",
    "plt.scatter([x for x in range(1,51)],[np.exp(10.12066213 + np.log(x) * (-2.51804516)) for x in range(1,51)])\n",
    "plt.xlabel('degree')\n",
    "plt.ylabel('count')\n",
    "\n",
    "plt.grid(True)\n",
    "\n",
    "plt.yscale('log')\n",
    "plt.xscale('log')\n",
    "plt.grid(linestyle='dashed')\n",
    "plt.show() # show the plot\n",
    "\n",
    "# plt.scatter([x for x in range(1,51)],[8.75106327+ np.log(x) * (-2.43505701) for x in range(1,51)])\n",
    "# plt.scatter(data_regression[0],data_regression['log_counts'])"
   ]
  },
  {
   "cell_type": "code",
   "execution_count": 87,
   "metadata": {},
   "outputs": [],
   "source": [
    "lr_cum_node_exponential = LinearRegression()"
   ]
  },
  {
   "cell_type": "code",
   "execution_count": 88,
   "metadata": {},
   "outputs": [
    {
     "data": {
      "text/plain": [
       "LinearRegression()"
      ]
     },
     "execution_count": 88,
     "metadata": {},
     "output_type": "execute_result"
    }
   ],
   "source": [
    "lr_cum_node_exponential.fit(data_regression[['node_degree']],data_regression[['log_cumulative_node_degree']])"
   ]
  },
  {
   "cell_type": "code",
   "execution_count": 89,
   "metadata": {},
   "outputs": [
    {
     "data": {
      "text/plain": [
       "(array([4.49185557]), array([[-0.00788152]]))"
      ]
     },
     "execution_count": 89,
     "metadata": {},
     "output_type": "execute_result"
    }
   ],
   "source": [
    "lr_cum_node_exponential.intercept_,lr_cum_node_exponential.coef_"
   ]
  },
  {
   "cell_type": "code",
   "execution_count": 90,
   "metadata": {},
   "outputs": [],
   "source": [
    "data_regression['pred_cumulativ_degreess_exp'] = np.exp(7.04924969 + (data_regression['node_degree']) * (-0.19897187))"
   ]
  },
  {
   "cell_type": "code",
   "execution_count": 91,
   "metadata": {
    "scrolled": false
   },
   "outputs": [
    {
     "data": {
      "image/png": "[encoded data removed]",
      "text/plain": [
       "<Figure size 792x504 with 1 Axes>"
      ]
     },
     "metadata": {
      "needs_background": "light"
     },
     "output_type": "display_data"
    }
   ],
   "source": [
    "figure(figsize=(11,7))\n",
    "\n",
    "plt.scatter(x = data_regression['node_degree'],\n",
    "            y = data_regression['cumulative_node_degree'], \n",
    "            alpha=0.5)\n",
    "plt.title('Graph degree distribution with log scale')\n",
    "plt.scatter([x for x in range(1,51)],[np.exp(7.04924969 + x * (-0.19897187)) for x in range(1,51)])\n",
    "plt.xlabel('degree')\n",
    "plt.ylabel('count')\n",
    "\n",
    "plt.grid(True)\n",
    "\n",
    "plt.yscale('log')\n",
    "plt.xscale('log')\n",
    "plt.grid(linestyle='dashed')\n",
    "plt.show() # show the plot\n",
    "\n",
    "# plt.scatter([x for x in range(1,51)],[8.75106327+ np.log(x) * (-2.43505701) for x in range(1,51)])\n",
    "# plt.scatter(data_regression[0],data_regression['log_counts'])"
   ]
  },
  {
   "cell_type": "code",
   "execution_count": 94,
   "metadata": {},
   "outputs": [],
   "source": [
    "# TODO: fix line below\n",
    "# print('Chi2 statistics for power-law function: {0}'.format(stats.chisquare(data_regression['cumulative_node_degree'],\n",
    "#                                                                          data_regression['pred_cumulativ_degreess_exp'])))"
   ]
  },
  {
   "cell_type": "code",
   "execution_count": 95,
   "metadata": {},
   "outputs": [],
   "source": [
    "# TODO: fix line below\n",
    "# print('Chi2 statistics for exponential function: {0}'.format(stats.chisquare(data_regression['cumulative_node_degree'],\n",
    "#                                                                           data_regression['prediction_lr_degreess_exponential'])))"
   ]
  }
 ],
 "metadata": {
  "kernelspec": {
   "display_name": "Python 3 (ipykernel)",
   "language": "python",
   "name": "python3"
  },
  "language_info": {
   "codemirror_mode": {
    "name": "ipython",
    "version": 3
   },
   "file_extension": ".py",
   "mimetype": "text/x-python",
   "name": "python",
   "nbconvert_exporter": "python",
   "pygments_lexer": "ipython3",
   "version": "3.9.7"
  }
 },
 "nbformat": 4,
 "nbformat_minor": 2
}

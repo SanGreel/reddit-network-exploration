{
 "cells": [
  {
   "cell_type": "markdown",
   "metadata": {},
   "source": [
    "# Reddit submissions graph analysis\n",
    "## Step #1: Data preparation"
   ]
  },
  {
   "cell_type": "markdown",
   "metadata": {},
   "source": [
    "#### Convert dataset to the proper Graph structure \n",
    "\n",
    "[What’s in a name? Understanding the Interplay betweenTitles, Content, and Communities in Social Media](http://i.stanford.edu/~julian/pdfs/icwsm13.pdf)"
   ]
  },
  {
   "cell_type": "code",
   "execution_count": 1,
   "metadata": {},
   "outputs": [],
   "source": [
    "import pandas as pd\n",
    "import numpy as np\n",
    "import matplotlib\n",
    "import seaborn\n",
    "\n",
    "\n",
    "import warnings\n",
    "warnings.filterwarnings('ignore')"
   ]
  },
  {
   "cell_type": "code",
   "execution_count": 2,
   "metadata": {},
   "outputs": [
    {
     "name": "stdout",
     "output_type": "stream",
     "text": [
      "0.9.9\n"
     ]
    }
   ],
   "source": [
    "import igraph\n",
    "print (igraph.__version__)"
   ]
  },
  {
   "cell_type": "code",
   "execution_count": 3,
   "metadata": {},
   "outputs": [],
   "source": [
    "# !pip install igraph"
   ]
  },
  {
   "cell_type": "markdown",
   "metadata": {},
   "source": [
    "### Load raw data"
   ]
  },
  {
   "cell_type": "code",
   "execution_count": 4,
   "metadata": {},
   "outputs": [],
   "source": [
    "data_foled = 'data/'\n",
    "data_file = 'redditSubmissions.csv'"
   ]
  },
  {
   "cell_type": "code",
   "execution_count": 5,
   "metadata": {},
   "outputs": [
    {
     "name": "stderr",
     "output_type": "stream",
     "text": [
      "b'Skipping line 67828: expected 13 fields, saw 16\\nSkipping line 67829: expected 13 fields, saw 16\\nSkipping line 67830: expected 13 fields, saw 16\\nSkipping line 67831: expected 13 fields, saw 16\\nSkipping line 67832: expected 13 fields, saw 14\\n'\n"
     ]
    }
   ],
   "source": [
    "df = pd.read_csv(data_foled+data_file, header=0, error_bad_lines=False)"
   ]
  },
  {
   "cell_type": "code",
   "execution_count": 6,
   "metadata": {},
   "outputs": [
    {
     "data": {
      "text/plain": [
       "(132303, 13)"
      ]
     },
     "execution_count": 6,
     "metadata": {},
     "output_type": "execute_result"
    }
   ],
   "source": [
    "df.shape"
   ]
  },
  {
   "cell_type": "code",
   "execution_count": 7,
   "metadata": {},
   "outputs": [
    {
     "data": {
      "text/html": [
       "<div>\n",
       "<style scoped>\n",
       "    .dataframe tbody tr th:only-of-type {\n",
       "        vertical-align: middle;\n",
       "    }\n",
       "\n",
       "    .dataframe tbody tr th {\n",
       "        vertical-align: top;\n",
       "    }\n",
       "\n",
       "    .dataframe thead th {\n",
       "        text-align: right;\n",
       "    }\n",
       "</style>\n",
       "<table border=\"1\" class=\"dataframe\">\n",
       "  <thead>\n",
       "    <tr style=\"text-align: right;\">\n",
       "      <th></th>\n",
       "      <th>#image_id</th>\n",
       "      <th>unixtime</th>\n",
       "      <th>rawtime</th>\n",
       "      <th>title</th>\n",
       "      <th>total_votes</th>\n",
       "      <th>reddit_id</th>\n",
       "      <th>number_of_upvotes</th>\n",
       "      <th>subreddit</th>\n",
       "      <th>number_of_downvotes</th>\n",
       "      <th>localtime</th>\n",
       "      <th>score</th>\n",
       "      <th>number_of_comments</th>\n",
       "      <th>username</th>\n",
       "    </tr>\n",
       "  </thead>\n",
       "  <tbody>\n",
       "    <tr>\n",
       "      <th>0</th>\n",
       "      <td>0</td>\n",
       "      <td>1.333172e+09</td>\n",
       "      <td>2012-03-31T12:40:39.590113-07:00</td>\n",
       "      <td>And here's a downvote.</td>\n",
       "      <td>63470.0</td>\n",
       "      <td>rmqjs</td>\n",
       "      <td>32657.0</td>\n",
       "      <td>funny</td>\n",
       "      <td>30813.0</td>\n",
       "      <td>1.333198e+09</td>\n",
       "      <td>1844.0</td>\n",
       "      <td>622.0</td>\n",
       "      <td>Animates_Everything</td>\n",
       "    </tr>\n",
       "    <tr>\n",
       "      <th>1</th>\n",
       "      <td>0</td>\n",
       "      <td>1.333178e+09</td>\n",
       "      <td>2012-03-31T14:16:01.093638-07:00</td>\n",
       "      <td>Expectation</td>\n",
       "      <td>35.0</td>\n",
       "      <td>rmun4</td>\n",
       "      <td>29.0</td>\n",
       "      <td>GifSound</td>\n",
       "      <td>6.0</td>\n",
       "      <td>1.333203e+09</td>\n",
       "      <td>23.0</td>\n",
       "      <td>3.0</td>\n",
       "      <td>Gangsta_Raper</td>\n",
       "    </tr>\n",
       "    <tr>\n",
       "      <th>2</th>\n",
       "      <td>0</td>\n",
       "      <td>1.333200e+09</td>\n",
       "      <td>2012-03-31T20:18:33.192906-07:00</td>\n",
       "      <td>Downvote</td>\n",
       "      <td>41.0</td>\n",
       "      <td>rna86</td>\n",
       "      <td>32.0</td>\n",
       "      <td>GifSound</td>\n",
       "      <td>9.0</td>\n",
       "      <td>1.333225e+09</td>\n",
       "      <td>23.0</td>\n",
       "      <td>0.0</td>\n",
       "      <td>Gangsta_Raper</td>\n",
       "    </tr>\n",
       "    <tr>\n",
       "      <th>3</th>\n",
       "      <td>0</td>\n",
       "      <td>1.333252e+09</td>\n",
       "      <td>2012-04-01T10:52:10-07:00</td>\n",
       "      <td>Every time I downvote something</td>\n",
       "      <td>10.0</td>\n",
       "      <td>ro7e4</td>\n",
       "      <td>6.0</td>\n",
       "      <td>GifSound</td>\n",
       "      <td>4.0</td>\n",
       "      <td>1.333278e+09</td>\n",
       "      <td>2.0</td>\n",
       "      <td>0.0</td>\n",
       "      <td>Gangsta_Raper</td>\n",
       "    </tr>\n",
       "    <tr>\n",
       "      <th>4</th>\n",
       "      <td>0</td>\n",
       "      <td>1.333273e+09</td>\n",
       "      <td>2012-04-01T16:35:54.393381-07:00</td>\n",
       "      <td>Downvote &amp;quot;Dies Irae&amp;quot;</td>\n",
       "      <td>65.0</td>\n",
       "      <td>rooof</td>\n",
       "      <td>57.0</td>\n",
       "      <td>GifSound</td>\n",
       "      <td>8.0</td>\n",
       "      <td>1.333298e+09</td>\n",
       "      <td>49.0</td>\n",
       "      <td>0.0</td>\n",
       "      <td>Gangsta_Raper</td>\n",
       "    </tr>\n",
       "    <tr>\n",
       "      <th>5</th>\n",
       "      <td>0</td>\n",
       "      <td>1.333761e+09</td>\n",
       "      <td>2012-04-07T08:11:00-07:00</td>\n",
       "      <td>Demolished, every time you downvote someone</td>\n",
       "      <td>40.0</td>\n",
       "      <td>rxwjg</td>\n",
       "      <td>17.0</td>\n",
       "      <td>gifs</td>\n",
       "      <td>23.0</td>\n",
       "      <td>1.333786e+09</td>\n",
       "      <td>-6.0</td>\n",
       "      <td>3.0</td>\n",
       "      <td>Hellothereawesome</td>\n",
       "    </tr>\n",
       "    <tr>\n",
       "      <th>6</th>\n",
       "      <td>0</td>\n",
       "      <td>1.335504e+09</td>\n",
       "      <td>2012-04-27T12:17:14.103167-07:00</td>\n",
       "      <td>how i feel whenever i submit here</td>\n",
       "      <td>104.0</td>\n",
       "      <td>svpq7</td>\n",
       "      <td>67.0</td>\n",
       "      <td>fffffffuuuuuuuuuuuu</td>\n",
       "      <td>37.0</td>\n",
       "      <td>1.335529e+09</td>\n",
       "      <td>30.0</td>\n",
       "      <td>12.0</td>\n",
       "      <td>NaN</td>\n",
       "    </tr>\n",
       "    <tr>\n",
       "      <th>7</th>\n",
       "      <td>0</td>\n",
       "      <td>1.339160e+09</td>\n",
       "      <td>2012-06-08T19:54:35.421944-07:00</td>\n",
       "      <td>getting that first downvote on a new post</td>\n",
       "      <td>13.0</td>\n",
       "      <td>usmxn</td>\n",
       "      <td>5.0</td>\n",
       "      <td>funny</td>\n",
       "      <td>8.0</td>\n",
       "      <td>1.339185e+09</td>\n",
       "      <td>-3.0</td>\n",
       "      <td>0.0</td>\n",
       "      <td>NaN</td>\n",
       "    </tr>\n",
       "    <tr>\n",
       "      <th>8</th>\n",
       "      <td>0</td>\n",
       "      <td>1.339408e+09</td>\n",
       "      <td>2012-06-11T16:44:39.947798-07:00</td>\n",
       "      <td>How reddit seems to reacts whenever I share a ...</td>\n",
       "      <td>14.0</td>\n",
       "      <td>uwzrd</td>\n",
       "      <td>6.0</td>\n",
       "      <td>funny</td>\n",
       "      <td>8.0</td>\n",
       "      <td>1.339433e+09</td>\n",
       "      <td>-2.0</td>\n",
       "      <td>0.0</td>\n",
       "      <td>NaN</td>\n",
       "    </tr>\n",
       "    <tr>\n",
       "      <th>9</th>\n",
       "      <td>0</td>\n",
       "      <td>1.339425e+09</td>\n",
       "      <td>2012-06-11T21:34:51.692933-07:00</td>\n",
       "      <td>Every LastAirBender post with a NSFW tag</td>\n",
       "      <td>20.0</td>\n",
       "      <td>uxf5q</td>\n",
       "      <td>9.0</td>\n",
       "      <td>pics</td>\n",
       "      <td>11.0</td>\n",
       "      <td>1.339450e+09</td>\n",
       "      <td>-2.0</td>\n",
       "      <td>0.0</td>\n",
       "      <td>HadManySons</td>\n",
       "    </tr>\n",
       "  </tbody>\n",
       "</table>\n",
       "</div>"
      ],
      "text/plain": [
       "   #image_id      unixtime                           rawtime  \\\n",
       "0          0  1.333172e+09  2012-03-31T12:40:39.590113-07:00   \n",
       "1          0  1.333178e+09  2012-03-31T14:16:01.093638-07:00   \n",
       "2          0  1.333200e+09  2012-03-31T20:18:33.192906-07:00   \n",
       "3          0  1.333252e+09         2012-04-01T10:52:10-07:00   \n",
       "4          0  1.333273e+09  2012-04-01T16:35:54.393381-07:00   \n",
       "5          0  1.333761e+09         2012-04-07T08:11:00-07:00   \n",
       "6          0  1.335504e+09  2012-04-27T12:17:14.103167-07:00   \n",
       "7          0  1.339160e+09  2012-06-08T19:54:35.421944-07:00   \n",
       "8          0  1.339408e+09  2012-06-11T16:44:39.947798-07:00   \n",
       "9          0  1.339425e+09  2012-06-11T21:34:51.692933-07:00   \n",
       "\n",
       "                                               title  total_votes reddit_id  \\\n",
       "0                             And here's a downvote.      63470.0     rmqjs   \n",
       "1                                        Expectation         35.0     rmun4   \n",
       "2                                           Downvote         41.0     rna86   \n",
       "3                    Every time I downvote something         10.0     ro7e4   \n",
       "4                     Downvote &quot;Dies Irae&quot;         65.0     rooof   \n",
       "5        Demolished, every time you downvote someone         40.0     rxwjg   \n",
       "6                  how i feel whenever i submit here        104.0     svpq7   \n",
       "7          getting that first downvote on a new post         13.0     usmxn   \n",
       "8  How reddit seems to reacts whenever I share a ...         14.0     uwzrd   \n",
       "9           Every LastAirBender post with a NSFW tag         20.0     uxf5q   \n",
       "\n",
       "   number_of_upvotes            subreddit  number_of_downvotes     localtime  \\\n",
       "0            32657.0                funny              30813.0  1.333198e+09   \n",
       "1               29.0             GifSound                  6.0  1.333203e+09   \n",
       "2               32.0             GifSound                  9.0  1.333225e+09   \n",
       "3                6.0             GifSound                  4.0  1.333278e+09   \n",
       "4               57.0             GifSound                  8.0  1.333298e+09   \n",
       "5               17.0                 gifs                 23.0  1.333786e+09   \n",
       "6               67.0  fffffffuuuuuuuuuuuu                 37.0  1.335529e+09   \n",
       "7                5.0                funny                  8.0  1.339185e+09   \n",
       "8                6.0                funny                  8.0  1.339433e+09   \n",
       "9                9.0                 pics                 11.0  1.339450e+09   \n",
       "\n",
       "    score  number_of_comments             username  \n",
       "0  1844.0               622.0  Animates_Everything  \n",
       "1    23.0                 3.0        Gangsta_Raper  \n",
       "2    23.0                 0.0        Gangsta_Raper  \n",
       "3     2.0                 0.0        Gangsta_Raper  \n",
       "4    49.0                 0.0        Gangsta_Raper  \n",
       "5    -6.0                 3.0    Hellothereawesome  \n",
       "6    30.0                12.0                  NaN  \n",
       "7    -3.0                 0.0                  NaN  \n",
       "8    -2.0                 0.0                  NaN  \n",
       "9    -2.0                 0.0          HadManySons  "
      ]
     },
     "execution_count": 7,
     "metadata": {},
     "output_type": "execute_result"
    }
   ],
   "source": [
    "df.head(10)"
   ]
  },
  {
   "cell_type": "code",
   "execution_count": 8,
   "metadata": {},
   "outputs": [],
   "source": [
    "graph = df[[\"#image_id\",\"subreddit\"]]"
   ]
  },
  {
   "cell_type": "code",
   "execution_count": 9,
   "metadata": {},
   "outputs": [
    {
     "data": {
      "text/html": [
       "<div>\n",
       "<style scoped>\n",
       "    .dataframe tbody tr th:only-of-type {\n",
       "        vertical-align: middle;\n",
       "    }\n",
       "\n",
       "    .dataframe tbody tr th {\n",
       "        vertical-align: top;\n",
       "    }\n",
       "\n",
       "    .dataframe thead th {\n",
       "        text-align: right;\n",
       "    }\n",
       "</style>\n",
       "<table border=\"1\" class=\"dataframe\">\n",
       "  <thead>\n",
       "    <tr style=\"text-align: right;\">\n",
       "      <th></th>\n",
       "      <th>#image_id</th>\n",
       "      <th>subreddit</th>\n",
       "    </tr>\n",
       "  </thead>\n",
       "  <tbody>\n",
       "    <tr>\n",
       "      <th>0</th>\n",
       "      <td>0</td>\n",
       "      <td>funny</td>\n",
       "    </tr>\n",
       "    <tr>\n",
       "      <th>1</th>\n",
       "      <td>0</td>\n",
       "      <td>GifSound</td>\n",
       "    </tr>\n",
       "    <tr>\n",
       "      <th>2</th>\n",
       "      <td>0</td>\n",
       "      <td>GifSound</td>\n",
       "    </tr>\n",
       "    <tr>\n",
       "      <th>3</th>\n",
       "      <td>0</td>\n",
       "      <td>GifSound</td>\n",
       "    </tr>\n",
       "    <tr>\n",
       "      <th>4</th>\n",
       "      <td>0</td>\n",
       "      <td>GifSound</td>\n",
       "    </tr>\n",
       "    <tr>\n",
       "      <th>5</th>\n",
       "      <td>0</td>\n",
       "      <td>gifs</td>\n",
       "    </tr>\n",
       "    <tr>\n",
       "      <th>6</th>\n",
       "      <td>0</td>\n",
       "      <td>fffffffuuuuuuuuuuuu</td>\n",
       "    </tr>\n",
       "    <tr>\n",
       "      <th>7</th>\n",
       "      <td>0</td>\n",
       "      <td>funny</td>\n",
       "    </tr>\n",
       "    <tr>\n",
       "      <th>8</th>\n",
       "      <td>0</td>\n",
       "      <td>funny</td>\n",
       "    </tr>\n",
       "    <tr>\n",
       "      <th>9</th>\n",
       "      <td>0</td>\n",
       "      <td>pics</td>\n",
       "    </tr>\n",
       "  </tbody>\n",
       "</table>\n",
       "</div>"
      ],
      "text/plain": [
       "   #image_id            subreddit\n",
       "0          0                funny\n",
       "1          0             GifSound\n",
       "2          0             GifSound\n",
       "3          0             GifSound\n",
       "4          0             GifSound\n",
       "5          0                 gifs\n",
       "6          0  fffffffuuuuuuuuuuuu\n",
       "7          0                funny\n",
       "8          0                funny\n",
       "9          0                 pics"
      ]
     },
     "execution_count": 9,
     "metadata": {},
     "output_type": "execute_result"
    }
   ],
   "source": [
    "graph.head(10)"
   ]
  },
  {
   "cell_type": "code",
   "execution_count": 10,
   "metadata": {},
   "outputs": [],
   "source": [
    "graph[\"subreddit2\"] = pd.Categorical(graph[\"subreddit\"]).codes"
   ]
  },
  {
   "cell_type": "code",
   "execution_count": 11,
   "metadata": {},
   "outputs": [
    {
     "data": {
      "text/html": [
       "<div>\n",
       "<style scoped>\n",
       "    .dataframe tbody tr th:only-of-type {\n",
       "        vertical-align: middle;\n",
       "    }\n",
       "\n",
       "    .dataframe tbody tr th {\n",
       "        vertical-align: top;\n",
       "    }\n",
       "\n",
       "    .dataframe thead th {\n",
       "        text-align: right;\n",
       "    }\n",
       "</style>\n",
       "<table border=\"1\" class=\"dataframe\">\n",
       "  <thead>\n",
       "    <tr style=\"text-align: right;\">\n",
       "      <th></th>\n",
       "      <th>#image_id</th>\n",
       "      <th>subreddit</th>\n",
       "      <th>subreddit2</th>\n",
       "    </tr>\n",
       "  </thead>\n",
       "  <tbody>\n",
       "    <tr>\n",
       "      <th>0</th>\n",
       "      <td>0</td>\n",
       "      <td>funny</td>\n",
       "      <td>539</td>\n",
       "    </tr>\n",
       "    <tr>\n",
       "      <th>1</th>\n",
       "      <td>0</td>\n",
       "      <td>GifSound</td>\n",
       "      <td>153</td>\n",
       "    </tr>\n",
       "    <tr>\n",
       "      <th>2</th>\n",
       "      <td>0</td>\n",
       "      <td>GifSound</td>\n",
       "      <td>153</td>\n",
       "    </tr>\n",
       "    <tr>\n",
       "      <th>3</th>\n",
       "      <td>0</td>\n",
       "      <td>GifSound</td>\n",
       "      <td>153</td>\n",
       "    </tr>\n",
       "    <tr>\n",
       "      <th>4</th>\n",
       "      <td>0</td>\n",
       "      <td>GifSound</td>\n",
       "      <td>153</td>\n",
       "    </tr>\n",
       "  </tbody>\n",
       "</table>\n",
       "</div>"
      ],
      "text/plain": [
       "   #image_id subreddit  subreddit2\n",
       "0          0     funny         539\n",
       "1          0  GifSound         153\n",
       "2          0  GifSound         153\n",
       "3          0  GifSound         153\n",
       "4          0  GifSound         153"
      ]
     },
     "execution_count": 11,
     "metadata": {},
     "output_type": "execute_result"
    }
   ],
   "source": [
    "graph.head()"
   ]
  },
  {
   "cell_type": "code",
   "execution_count": 12,
   "metadata": {},
   "outputs": [
    {
     "data": {
      "text/plain": [
       "(132303, 3)"
      ]
     },
     "execution_count": 12,
     "metadata": {},
     "output_type": "execute_result"
    }
   ],
   "source": [
    "graph.shape"
   ]
  },
  {
   "cell_type": "markdown",
   "metadata": {},
   "source": [
    "### Aggregate data"
   ]
  },
  {
   "cell_type": "code",
   "execution_count": 13,
   "metadata": {},
   "outputs": [],
   "source": [
    "subreddit_dict = graph.copy()\n",
    "\n",
    "subreddit_dict['count'] = 1\n",
    "subreddit_dict = subreddit_dict.groupby(['subreddit','subreddit2']).agg({'count':'sum'}).sort_values(by='count', ascending=False)"
   ]
  },
  {
   "cell_type": "code",
   "execution_count": 14,
   "metadata": {},
   "outputs": [],
   "source": [
    "subreddit_dict.reset_index(inplace=True)\n",
    "subreddit_dict = subreddit_dict.rename(index=str, columns={\"subreddit\": \"name\", \"subreddit2\": \"id\", \"count\":\"count\"})"
   ]
  },
  {
   "cell_type": "markdown",
   "metadata": {},
   "source": [
    "### Save Nodes<->Subreddit dictionary"
   ]
  },
  {
   "cell_type": "code",
   "execution_count": 15,
   "metadata": {},
   "outputs": [
    {
     "data": {
      "text/html": [
       "<div>\n",
       "<style scoped>\n",
       "    .dataframe tbody tr th:only-of-type {\n",
       "        vertical-align: middle;\n",
       "    }\n",
       "\n",
       "    .dataframe tbody tr th {\n",
       "        vertical-align: top;\n",
       "    }\n",
       "\n",
       "    .dataframe thead th {\n",
       "        text-align: right;\n",
       "    }\n",
       "</style>\n",
       "<table border=\"1\" class=\"dataframe\">\n",
       "  <thead>\n",
       "    <tr style=\"text-align: right;\">\n",
       "      <th></th>\n",
       "      <th>name</th>\n",
       "      <th>id</th>\n",
       "      <th>count</th>\n",
       "    </tr>\n",
       "  </thead>\n",
       "  <tbody>\n",
       "    <tr>\n",
       "      <th>0</th>\n",
       "      <td>funny</td>\n",
       "      <td>539</td>\n",
       "      <td>55277</td>\n",
       "    </tr>\n",
       "    <tr>\n",
       "      <th>1</th>\n",
       "      <td>pics</td>\n",
       "      <td>694</td>\n",
       "      <td>24712</td>\n",
       "    </tr>\n",
       "    <tr>\n",
       "      <th>2</th>\n",
       "      <td>gifs</td>\n",
       "      <td>557</td>\n",
       "      <td>12538</td>\n",
       "    </tr>\n",
       "    <tr>\n",
       "      <th>3</th>\n",
       "      <td>WTF</td>\n",
       "      <td>379</td>\n",
       "      <td>12193</td>\n",
       "    </tr>\n",
       "    <tr>\n",
       "      <th>4</th>\n",
       "      <td>aww</td>\n",
       "      <td>407</td>\n",
       "      <td>5920</td>\n",
       "    </tr>\n",
       "    <tr>\n",
       "      <th>5</th>\n",
       "      <td>GifSound</td>\n",
       "      <td>153</td>\n",
       "      <td>5608</td>\n",
       "    </tr>\n",
       "    <tr>\n",
       "      <th>6</th>\n",
       "      <td>atheism</td>\n",
       "      <td>402</td>\n",
       "      <td>3366</td>\n",
       "    </tr>\n",
       "    <tr>\n",
       "      <th>7</th>\n",
       "      <td>gaming</td>\n",
       "      <td>545</td>\n",
       "      <td>3009</td>\n",
       "    </tr>\n",
       "    <tr>\n",
       "      <th>8</th>\n",
       "      <td>AdviceAnimals</td>\n",
       "      <td>13</td>\n",
       "      <td>999</td>\n",
       "    </tr>\n",
       "    <tr>\n",
       "      <th>9</th>\n",
       "      <td>reactiongifs</td>\n",
       "      <td>723</td>\n",
       "      <td>963</td>\n",
       "    </tr>\n",
       "  </tbody>\n",
       "</table>\n",
       "</div>"
      ],
      "text/plain": [
       "            name   id  count\n",
       "0          funny  539  55277\n",
       "1           pics  694  24712\n",
       "2           gifs  557  12538\n",
       "3            WTF  379  12193\n",
       "4            aww  407   5920\n",
       "5       GifSound  153   5608\n",
       "6        atheism  402   3366\n",
       "7         gaming  545   3009\n",
       "8  AdviceAnimals   13    999\n",
       "9   reactiongifs  723    963"
      ]
     },
     "execution_count": 15,
     "metadata": {},
     "output_type": "execute_result"
    }
   ],
   "source": [
    "subreddit_dict.head(10)"
   ]
  },
  {
   "cell_type": "code",
   "execution_count": 16,
   "metadata": {},
   "outputs": [],
   "source": [
    "subreddit_dict.to_csv('./data/subreddit_dict.csv', index=None)"
   ]
  },
  {
   "cell_type": "markdown",
   "metadata": {},
   "source": [
    "### Transform Table to Graph"
   ]
  },
  {
   "cell_type": "code",
   "execution_count": 17,
   "metadata": {},
   "outputs": [],
   "source": [
    "graph = graph.rename(index=str, columns={\"#image_id\": \"img\", \"subreddit\": \"subreddit_name\", \"subreddit2\": \"subreddit\"})"
   ]
  },
  {
   "cell_type": "code",
   "execution_count": 18,
   "metadata": {},
   "outputs": [
    {
     "data": {
      "text/plain": [
       "(132303, 3)"
      ]
     },
     "execution_count": 18,
     "metadata": {},
     "output_type": "execute_result"
    }
   ],
   "source": [
    "graph.shape"
   ]
  },
  {
   "cell_type": "code",
   "execution_count": 19,
   "metadata": {},
   "outputs": [],
   "source": [
    "graph.drop_duplicates(inplace=True)"
   ]
  },
  {
   "cell_type": "code",
   "execution_count": 20,
   "metadata": {},
   "outputs": [
    {
     "data": {
      "text/plain": [
       "(42568, 3)"
      ]
     },
     "execution_count": 20,
     "metadata": {},
     "output_type": "execute_result"
    }
   ],
   "source": [
    "graph.shape"
   ]
  },
  {
   "cell_type": "code",
   "execution_count": 21,
   "metadata": {},
   "outputs": [],
   "source": [
    "tmp = graph.join(graph.set_index('img'),on='img',rsuffix='_neighbor')"
   ]
  },
  {
   "cell_type": "code",
   "execution_count": 22,
   "metadata": {},
   "outputs": [
    {
     "data": {
      "text/html": [
       "<div>\n",
       "<style scoped>\n",
       "    .dataframe tbody tr th:only-of-type {\n",
       "        vertical-align: middle;\n",
       "    }\n",
       "\n",
       "    .dataframe tbody tr th {\n",
       "        vertical-align: top;\n",
       "    }\n",
       "\n",
       "    .dataframe thead th {\n",
       "        text-align: right;\n",
       "    }\n",
       "</style>\n",
       "<table border=\"1\" class=\"dataframe\">\n",
       "  <thead>\n",
       "    <tr style=\"text-align: right;\">\n",
       "      <th></th>\n",
       "      <th>img</th>\n",
       "      <th>subreddit_name</th>\n",
       "      <th>subreddit</th>\n",
       "      <th>subreddit_name_neighbor</th>\n",
       "      <th>subreddit_neighbor</th>\n",
       "    </tr>\n",
       "  </thead>\n",
       "  <tbody>\n",
       "    <tr>\n",
       "      <th>0</th>\n",
       "      <td>0</td>\n",
       "      <td>funny</td>\n",
       "      <td>539</td>\n",
       "      <td>funny</td>\n",
       "      <td>539</td>\n",
       "    </tr>\n",
       "    <tr>\n",
       "      <th>0</th>\n",
       "      <td>0</td>\n",
       "      <td>funny</td>\n",
       "      <td>539</td>\n",
       "      <td>GifSound</td>\n",
       "      <td>153</td>\n",
       "    </tr>\n",
       "    <tr>\n",
       "      <th>0</th>\n",
       "      <td>0</td>\n",
       "      <td>funny</td>\n",
       "      <td>539</td>\n",
       "      <td>gifs</td>\n",
       "      <td>557</td>\n",
       "    </tr>\n",
       "    <tr>\n",
       "      <th>0</th>\n",
       "      <td>0</td>\n",
       "      <td>funny</td>\n",
       "      <td>539</td>\n",
       "      <td>fffffffuuuuuuuuuuuu</td>\n",
       "      <td>528</td>\n",
       "    </tr>\n",
       "    <tr>\n",
       "      <th>0</th>\n",
       "      <td>0</td>\n",
       "      <td>funny</td>\n",
       "      <td>539</td>\n",
       "      <td>pics</td>\n",
       "      <td>694</td>\n",
       "    </tr>\n",
       "    <tr>\n",
       "      <th>0</th>\n",
       "      <td>0</td>\n",
       "      <td>funny</td>\n",
       "      <td>539</td>\n",
       "      <td>atheism</td>\n",
       "      <td>402</td>\n",
       "    </tr>\n",
       "    <tr>\n",
       "      <th>0</th>\n",
       "      <td>0</td>\n",
       "      <td>funny</td>\n",
       "      <td>539</td>\n",
       "      <td>gaming</td>\n",
       "      <td>545</td>\n",
       "    </tr>\n",
       "    <tr>\n",
       "      <th>1</th>\n",
       "      <td>0</td>\n",
       "      <td>GifSound</td>\n",
       "      <td>153</td>\n",
       "      <td>funny</td>\n",
       "      <td>539</td>\n",
       "    </tr>\n",
       "    <tr>\n",
       "      <th>1</th>\n",
       "      <td>0</td>\n",
       "      <td>GifSound</td>\n",
       "      <td>153</td>\n",
       "      <td>GifSound</td>\n",
       "      <td>153</td>\n",
       "    </tr>\n",
       "    <tr>\n",
       "      <th>1</th>\n",
       "      <td>0</td>\n",
       "      <td>GifSound</td>\n",
       "      <td>153</td>\n",
       "      <td>gifs</td>\n",
       "      <td>557</td>\n",
       "    </tr>\n",
       "  </tbody>\n",
       "</table>\n",
       "</div>"
      ],
      "text/plain": [
       "   img subreddit_name  subreddit subreddit_name_neighbor  subreddit_neighbor\n",
       "0    0          funny        539                   funny                 539\n",
       "0    0          funny        539                GifSound                 153\n",
       "0    0          funny        539                    gifs                 557\n",
       "0    0          funny        539     fffffffuuuuuuuuuuuu                 528\n",
       "0    0          funny        539                    pics                 694\n",
       "0    0          funny        539                 atheism                 402\n",
       "0    0          funny        539                  gaming                 545\n",
       "1    0       GifSound        153                   funny                 539\n",
       "1    0       GifSound        153                GifSound                 153\n",
       "1    0       GifSound        153                    gifs                 557"
      ]
     },
     "execution_count": 22,
     "metadata": {},
     "output_type": "execute_result"
    }
   ],
   "source": [
    "tmp.head(10)"
   ]
  },
  {
   "cell_type": "code",
   "execution_count": 23,
   "metadata": {},
   "outputs": [
    {
     "data": {
      "text/plain": [
       "(141082, 5)"
      ]
     },
     "execution_count": 23,
     "metadata": {},
     "output_type": "execute_result"
    }
   ],
   "source": [
    "tmp.shape"
   ]
  },
  {
   "cell_type": "code",
   "execution_count": 24,
   "metadata": {},
   "outputs": [],
   "source": [
    "tmp = tmp[tmp['subreddit']!=tmp['subreddit_neighbor']]"
   ]
  },
  {
   "cell_type": "code",
   "execution_count": 25,
   "metadata": {},
   "outputs": [
    {
     "data": {
      "text/plain": [
       "(98514, 5)"
      ]
     },
     "execution_count": 25,
     "metadata": {},
     "output_type": "execute_result"
    }
   ],
   "source": [
    "tmp.shape"
   ]
  },
  {
   "cell_type": "code",
   "execution_count": 26,
   "metadata": {},
   "outputs": [
    {
     "data": {
      "text/html": [
       "<div>\n",
       "<style scoped>\n",
       "    .dataframe tbody tr th:only-of-type {\n",
       "        vertical-align: middle;\n",
       "    }\n",
       "\n",
       "    .dataframe tbody tr th {\n",
       "        vertical-align: top;\n",
       "    }\n",
       "\n",
       "    .dataframe thead th {\n",
       "        text-align: right;\n",
       "    }\n",
       "</style>\n",
       "<table border=\"1\" class=\"dataframe\">\n",
       "  <thead>\n",
       "    <tr style=\"text-align: right;\">\n",
       "      <th></th>\n",
       "      <th>img</th>\n",
       "      <th>subreddit_name</th>\n",
       "      <th>subreddit</th>\n",
       "    </tr>\n",
       "  </thead>\n",
       "  <tbody>\n",
       "    <tr>\n",
       "      <th>0</th>\n",
       "      <td>0</td>\n",
       "      <td>funny</td>\n",
       "      <td>539</td>\n",
       "    </tr>\n",
       "    <tr>\n",
       "      <th>1</th>\n",
       "      <td>0</td>\n",
       "      <td>GifSound</td>\n",
       "      <td>153</td>\n",
       "    </tr>\n",
       "    <tr>\n",
       "      <th>5</th>\n",
       "      <td>0</td>\n",
       "      <td>gifs</td>\n",
       "      <td>557</td>\n",
       "    </tr>\n",
       "    <tr>\n",
       "      <th>6</th>\n",
       "      <td>0</td>\n",
       "      <td>fffffffuuuuuuuuuuuu</td>\n",
       "      <td>528</td>\n",
       "    </tr>\n",
       "    <tr>\n",
       "      <th>9</th>\n",
       "      <td>0</td>\n",
       "      <td>pics</td>\n",
       "      <td>694</td>\n",
       "    </tr>\n",
       "    <tr>\n",
       "      <th>13</th>\n",
       "      <td>0</td>\n",
       "      <td>atheism</td>\n",
       "      <td>402</td>\n",
       "    </tr>\n",
       "    <tr>\n",
       "      <th>16</th>\n",
       "      <td>0</td>\n",
       "      <td>gaming</td>\n",
       "      <td>545</td>\n",
       "    </tr>\n",
       "  </tbody>\n",
       "</table>\n",
       "</div>"
      ],
      "text/plain": [
       "    img       subreddit_name  subreddit\n",
       "0     0                funny        539\n",
       "1     0             GifSound        153\n",
       "5     0                 gifs        557\n",
       "6     0  fffffffuuuuuuuuuuuu        528\n",
       "9     0                 pics        694\n",
       "13    0              atheism        402\n",
       "16    0               gaming        545"
      ]
     },
     "execution_count": 26,
     "metadata": {},
     "output_type": "execute_result"
    }
   ],
   "source": [
    "graph[graph['img']==0]"
   ]
  },
  {
   "cell_type": "code",
   "execution_count": 27,
   "metadata": {},
   "outputs": [],
   "source": [
    "tmp.sort_values(by='subreddit',inplace=True)"
   ]
  },
  {
   "cell_type": "code",
   "execution_count": 28,
   "metadata": {},
   "outputs": [],
   "source": [
    "tmp[\"ukey1\"] = tmp[\"subreddit\"].astype(str)+'_'+tmp[\"subreddit_neighbor\"].astype(str)\n",
    "tmp[\"ukey2\"] = tmp[\"subreddit_neighbor\"].astype(str)+'_'+tmp[\"subreddit\"].astype(str)\n",
    "\n",
    "tmp = tmp[(tmp['subreddit']<tmp['subreddit_neighbor'])]"
   ]
  },
  {
   "cell_type": "code",
   "execution_count": 29,
   "metadata": {},
   "outputs": [
    {
     "data": {
      "text/html": [
       "<div>\n",
       "<style scoped>\n",
       "    .dataframe tbody tr th:only-of-type {\n",
       "        vertical-align: middle;\n",
       "    }\n",
       "\n",
       "    .dataframe tbody tr th {\n",
       "        vertical-align: top;\n",
       "    }\n",
       "\n",
       "    .dataframe thead th {\n",
       "        text-align: right;\n",
       "    }\n",
       "</style>\n",
       "<table border=\"1\" class=\"dataframe\">\n",
       "  <thead>\n",
       "    <tr style=\"text-align: right;\">\n",
       "      <th></th>\n",
       "      <th>img</th>\n",
       "      <th>subreddit_name</th>\n",
       "      <th>subreddit</th>\n",
       "      <th>subreddit_name_neighbor</th>\n",
       "      <th>subreddit_neighbor</th>\n",
       "      <th>ukey1</th>\n",
       "      <th>ukey2</th>\n",
       "    </tr>\n",
       "  </thead>\n",
       "  <tbody>\n",
       "    <tr>\n",
       "      <th>53033</th>\n",
       "      <td>20089</td>\n",
       "      <td>NaN</td>\n",
       "      <td>-1</td>\n",
       "      <td>pics</td>\n",
       "      <td>694</td>\n",
       "      <td>-1_694</td>\n",
       "      <td>694_-1</td>\n",
       "    </tr>\n",
       "    <tr>\n",
       "      <th>13946</th>\n",
       "      <td>1233</td>\n",
       "      <td>2006Scape</td>\n",
       "      <td>0</td>\n",
       "      <td>gaming</td>\n",
       "      <td>545</td>\n",
       "      <td>0_545</td>\n",
       "      <td>545_0</td>\n",
       "    </tr>\n",
       "    <tr>\n",
       "      <th>13946</th>\n",
       "      <td>1233</td>\n",
       "      <td>2006Scape</td>\n",
       "      <td>0</td>\n",
       "      <td>pics</td>\n",
       "      <td>694</td>\n",
       "      <td>0_694</td>\n",
       "      <td>694_0</td>\n",
       "    </tr>\n",
       "    <tr>\n",
       "      <th>13946</th>\n",
       "      <td>1233</td>\n",
       "      <td>2006Scape</td>\n",
       "      <td>0</td>\n",
       "      <td>roosterteeth</td>\n",
       "      <td>734</td>\n",
       "      <td>0_734</td>\n",
       "      <td>734_0</td>\n",
       "    </tr>\n",
       "    <tr>\n",
       "      <th>13946</th>\n",
       "      <td>1233</td>\n",
       "      <td>2006Scape</td>\n",
       "      <td>0</td>\n",
       "      <td>fitnesscirclejerk</td>\n",
       "      <td>531</td>\n",
       "      <td>0_531</td>\n",
       "      <td>531_0</td>\n",
       "    </tr>\n",
       "    <tr>\n",
       "      <th>13946</th>\n",
       "      <td>1233</td>\n",
       "      <td>2006Scape</td>\n",
       "      <td>0</td>\n",
       "      <td>gifs</td>\n",
       "      <td>557</td>\n",
       "      <td>0_557</td>\n",
       "      <td>557_0</td>\n",
       "    </tr>\n",
       "    <tr>\n",
       "      <th>13946</th>\n",
       "      <td>1233</td>\n",
       "      <td>2006Scape</td>\n",
       "      <td>0</td>\n",
       "      <td>GifSound</td>\n",
       "      <td>153</td>\n",
       "      <td>0_153</td>\n",
       "      <td>153_0</td>\n",
       "    </tr>\n",
       "    <tr>\n",
       "      <th>13946</th>\n",
       "      <td>1233</td>\n",
       "      <td>2006Scape</td>\n",
       "      <td>0</td>\n",
       "      <td>reactiongifs</td>\n",
       "      <td>723</td>\n",
       "      <td>0_723</td>\n",
       "      <td>723_0</td>\n",
       "    </tr>\n",
       "    <tr>\n",
       "      <th>13946</th>\n",
       "      <td>1233</td>\n",
       "      <td>2006Scape</td>\n",
       "      <td>0</td>\n",
       "      <td>reddit.com</td>\n",
       "      <td>724</td>\n",
       "      <td>0_724</td>\n",
       "      <td>724_0</td>\n",
       "    </tr>\n",
       "    <tr>\n",
       "      <th>13946</th>\n",
       "      <td>1233</td>\n",
       "      <td>2006Scape</td>\n",
       "      <td>0</td>\n",
       "      <td>funny</td>\n",
       "      <td>539</td>\n",
       "      <td>0_539</td>\n",
       "      <td>539_0</td>\n",
       "    </tr>\n",
       "  </tbody>\n",
       "</table>\n",
       "</div>"
      ],
      "text/plain": [
       "         img subreddit_name  subreddit subreddit_name_neighbor  \\\n",
       "53033  20089            NaN         -1                    pics   \n",
       "13946   1233      2006Scape          0                  gaming   \n",
       "13946   1233      2006Scape          0                    pics   \n",
       "13946   1233      2006Scape          0            roosterteeth   \n",
       "13946   1233      2006Scape          0       fitnesscirclejerk   \n",
       "13946   1233      2006Scape          0                    gifs   \n",
       "13946   1233      2006Scape          0                GifSound   \n",
       "13946   1233      2006Scape          0            reactiongifs   \n",
       "13946   1233      2006Scape          0              reddit.com   \n",
       "13946   1233      2006Scape          0                   funny   \n",
       "\n",
       "       subreddit_neighbor   ukey1   ukey2  \n",
       "53033                 694  -1_694  694_-1  \n",
       "13946                 545   0_545   545_0  \n",
       "13946                 694   0_694   694_0  \n",
       "13946                 734   0_734   734_0  \n",
       "13946                 531   0_531   531_0  \n",
       "13946                 557   0_557   557_0  \n",
       "13946                 153   0_153   153_0  \n",
       "13946                 723   0_723   723_0  \n",
       "13946                 724   0_724   724_0  \n",
       "13946                 539   0_539   539_0  "
      ]
     },
     "execution_count": 29,
     "metadata": {},
     "output_type": "execute_result"
    }
   ],
   "source": [
    "tmp.head(10)"
   ]
  },
  {
   "cell_type": "code",
   "execution_count": 30,
   "metadata": {},
   "outputs": [
    {
     "data": {
      "text/plain": [
       "(49257, 7)"
      ]
     },
     "execution_count": 30,
     "metadata": {},
     "output_type": "execute_result"
    }
   ],
   "source": [
    "tmp.shape"
   ]
  },
  {
   "cell_type": "code",
   "execution_count": 31,
   "metadata": {},
   "outputs": [],
   "source": [
    "tmp.drop_duplicates(subset=['subreddit','subreddit_neighbor'],inplace=True)"
   ]
  },
  {
   "cell_type": "code",
   "execution_count": 32,
   "metadata": {},
   "outputs": [],
   "source": [
    "result = tmp.drop(labels=['img','subreddit_name','subreddit_name_neighbor','ukey1','ukey2'], axis=True)"
   ]
  },
  {
   "cell_type": "code",
   "execution_count": 33,
   "metadata": {},
   "outputs": [
    {
     "data": {
      "text/html": [
       "<div>\n",
       "<style scoped>\n",
       "    .dataframe tbody tr th:only-of-type {\n",
       "        vertical-align: middle;\n",
       "    }\n",
       "\n",
       "    .dataframe tbody tr th {\n",
       "        vertical-align: top;\n",
       "    }\n",
       "\n",
       "    .dataframe thead th {\n",
       "        text-align: right;\n",
       "    }\n",
       "</style>\n",
       "<table border=\"1\" class=\"dataframe\">\n",
       "  <thead>\n",
       "    <tr style=\"text-align: right;\">\n",
       "      <th></th>\n",
       "      <th>subreddit</th>\n",
       "      <th>subreddit_neighbor</th>\n",
       "    </tr>\n",
       "  </thead>\n",
       "  <tbody>\n",
       "    <tr>\n",
       "      <th>53033</th>\n",
       "      <td>-1</td>\n",
       "      <td>694</td>\n",
       "    </tr>\n",
       "    <tr>\n",
       "      <th>13946</th>\n",
       "      <td>0</td>\n",
       "      <td>545</td>\n",
       "    </tr>\n",
       "    <tr>\n",
       "      <th>13946</th>\n",
       "      <td>0</td>\n",
       "      <td>694</td>\n",
       "    </tr>\n",
       "    <tr>\n",
       "      <th>13946</th>\n",
       "      <td>0</td>\n",
       "      <td>734</td>\n",
       "    </tr>\n",
       "    <tr>\n",
       "      <th>13946</th>\n",
       "      <td>0</td>\n",
       "      <td>531</td>\n",
       "    </tr>\n",
       "    <tr>\n",
       "      <th>13946</th>\n",
       "      <td>0</td>\n",
       "      <td>557</td>\n",
       "    </tr>\n",
       "    <tr>\n",
       "      <th>13946</th>\n",
       "      <td>0</td>\n",
       "      <td>153</td>\n",
       "    </tr>\n",
       "    <tr>\n",
       "      <th>13946</th>\n",
       "      <td>0</td>\n",
       "      <td>723</td>\n",
       "    </tr>\n",
       "    <tr>\n",
       "      <th>13946</th>\n",
       "      <td>0</td>\n",
       "      <td>724</td>\n",
       "    </tr>\n",
       "    <tr>\n",
       "      <th>13946</th>\n",
       "      <td>0</td>\n",
       "      <td>539</td>\n",
       "    </tr>\n",
       "  </tbody>\n",
       "</table>\n",
       "</div>"
      ],
      "text/plain": [
       "       subreddit  subreddit_neighbor\n",
       "53033         -1                 694\n",
       "13946          0                 545\n",
       "13946          0                 694\n",
       "13946          0                 734\n",
       "13946          0                 531\n",
       "13946          0                 557\n",
       "13946          0                 153\n",
       "13946          0                 723\n",
       "13946          0                 724\n",
       "13946          0                 539"
      ]
     },
     "execution_count": 33,
     "metadata": {},
     "output_type": "execute_result"
    }
   ],
   "source": [
    "result.head(10)"
   ]
  },
  {
   "cell_type": "code",
   "execution_count": 34,
   "metadata": {},
   "outputs": [
    {
     "data": {
      "text/plain": [
       "(5321, 2)"
      ]
     },
     "execution_count": 34,
     "metadata": {},
     "output_type": "execute_result"
    }
   ],
   "source": [
    "result.shape"
   ]
  },
  {
   "cell_type": "code",
   "execution_count": 35,
   "metadata": {},
   "outputs": [],
   "source": [
    "result.to_csv('./data/network.csv', index=None)"
   ]
  },
  {
   "cell_type": "markdown",
   "metadata": {},
   "source": [
    "## Graph structure validation"
   ]
  },
  {
   "cell_type": "code",
   "execution_count": 36,
   "metadata": {},
   "outputs": [
    {
     "data": {
      "text/html": [
       "<div>\n",
       "<style scoped>\n",
       "    .dataframe tbody tr th:only-of-type {\n",
       "        vertical-align: middle;\n",
       "    }\n",
       "\n",
       "    .dataframe tbody tr th {\n",
       "        vertical-align: top;\n",
       "    }\n",
       "\n",
       "    .dataframe thead th {\n",
       "        text-align: right;\n",
       "    }\n",
       "</style>\n",
       "<table border=\"1\" class=\"dataframe\">\n",
       "  <thead>\n",
       "    <tr style=\"text-align: right;\">\n",
       "      <th></th>\n",
       "      <th>img</th>\n",
       "      <th>subreddit_name</th>\n",
       "      <th>subreddit</th>\n",
       "    </tr>\n",
       "  </thead>\n",
       "  <tbody>\n",
       "    <tr>\n",
       "      <th>67230</th>\n",
       "      <td>23320</td>\n",
       "      <td>ragefaces</td>\n",
       "      <td>718</td>\n",
       "    </tr>\n",
       "  </tbody>\n",
       "</table>\n",
       "</div>"
      ],
      "text/plain": [
       "         img subreddit_name  subreddit\n",
       "67230  23320      ragefaces        718"
      ]
     },
     "execution_count": 36,
     "metadata": {},
     "output_type": "execute_result"
    }
   ],
   "source": [
    "graph[graph[\"subreddit\"]==718]"
   ]
  },
  {
   "cell_type": "code",
   "execution_count": 37,
   "metadata": {},
   "outputs": [
    {
     "data": {
      "text/html": [
       "<div>\n",
       "<style scoped>\n",
       "    .dataframe tbody tr th:only-of-type {\n",
       "        vertical-align: middle;\n",
       "    }\n",
       "\n",
       "    .dataframe tbody tr th {\n",
       "        vertical-align: top;\n",
       "    }\n",
       "\n",
       "    .dataframe thead th {\n",
       "        text-align: right;\n",
       "    }\n",
       "</style>\n",
       "<table border=\"1\" class=\"dataframe\">\n",
       "  <thead>\n",
       "    <tr style=\"text-align: right;\">\n",
       "      <th></th>\n",
       "      <th>img</th>\n",
       "      <th>subreddit_name</th>\n",
       "      <th>subreddit</th>\n",
       "    </tr>\n",
       "  </thead>\n",
       "  <tbody>\n",
       "    <tr>\n",
       "      <th>67230</th>\n",
       "      <td>23320</td>\n",
       "      <td>ragefaces</td>\n",
       "      <td>718</td>\n",
       "    </tr>\n",
       "    <tr>\n",
       "      <th>67231</th>\n",
       "      <td>23320</td>\n",
       "      <td>moosedongs</td>\n",
       "      <td>644</td>\n",
       "    </tr>\n",
       "    <tr>\n",
       "      <th>67232</th>\n",
       "      <td>23320</td>\n",
       "      <td>funny</td>\n",
       "      <td>539</td>\n",
       "    </tr>\n",
       "  </tbody>\n",
       "</table>\n",
       "</div>"
      ],
      "text/plain": [
       "         img subreddit_name  subreddit\n",
       "67230  23320      ragefaces        718\n",
       "67231  23320     moosedongs        644\n",
       "67232  23320          funny        539"
      ]
     },
     "execution_count": 37,
     "metadata": {},
     "output_type": "execute_result"
    }
   ],
   "source": [
    "graph[graph[\"img\"]==23320]"
   ]
  },
  {
   "cell_type": "code",
   "execution_count": 38,
   "metadata": {},
   "outputs": [
    {
     "data": {
      "text/html": [
       "<div>\n",
       "<style scoped>\n",
       "    .dataframe tbody tr th:only-of-type {\n",
       "        vertical-align: middle;\n",
       "    }\n",
       "\n",
       "    .dataframe tbody tr th {\n",
       "        vertical-align: top;\n",
       "    }\n",
       "\n",
       "    .dataframe thead th {\n",
       "        text-align: right;\n",
       "    }\n",
       "</style>\n",
       "<table border=\"1\" class=\"dataframe\">\n",
       "  <thead>\n",
       "    <tr style=\"text-align: right;\">\n",
       "      <th></th>\n",
       "      <th>subreddit</th>\n",
       "      <th>subreddit_neighbor</th>\n",
       "    </tr>\n",
       "  </thead>\n",
       "  <tbody>\n",
       "    <tr>\n",
       "      <th>67232</th>\n",
       "      <td>539</td>\n",
       "      <td>718</td>\n",
       "    </tr>\n",
       "    <tr>\n",
       "      <th>67231</th>\n",
       "      <td>644</td>\n",
       "      <td>718</td>\n",
       "    </tr>\n",
       "  </tbody>\n",
       "</table>\n",
       "</div>"
      ],
      "text/plain": [
       "       subreddit  subreddit_neighbor\n",
       "67232        539                 718\n",
       "67231        644                 718"
      ]
     },
     "execution_count": 38,
     "metadata": {},
     "output_type": "execute_result"
    }
   ],
   "source": [
    "result[(result[\"subreddit\"]==718)|(result[\"subreddit_neighbor\"]==718)]"
   ]
  },
  {
   "cell_type": "code",
   "execution_count": 39,
   "metadata": {},
   "outputs": [
    {
     "data": {
      "text/html": [
       "<div>\n",
       "<style scoped>\n",
       "    .dataframe tbody tr th:only-of-type {\n",
       "        vertical-align: middle;\n",
       "    }\n",
       "\n",
       "    .dataframe tbody tr th {\n",
       "        vertical-align: top;\n",
       "    }\n",
       "\n",
       "    .dataframe thead th {\n",
       "        text-align: right;\n",
       "    }\n",
       "</style>\n",
       "<table border=\"1\" class=\"dataframe\">\n",
       "  <thead>\n",
       "    <tr style=\"text-align: right;\">\n",
       "      <th></th>\n",
       "      <th>subreddit</th>\n",
       "      <th>subreddit_neighbor</th>\n",
       "    </tr>\n",
       "  </thead>\n",
       "  <tbody>\n",
       "    <tr>\n",
       "      <th>67232</th>\n",
       "      <td>539</td>\n",
       "      <td>644</td>\n",
       "    </tr>\n",
       "    <tr>\n",
       "      <th>67231</th>\n",
       "      <td>644</td>\n",
       "      <td>718</td>\n",
       "    </tr>\n",
       "  </tbody>\n",
       "</table>\n",
       "</div>"
      ],
      "text/plain": [
       "       subreddit  subreddit_neighbor\n",
       "67232        539                 644\n",
       "67231        644                 718"
      ]
     },
     "execution_count": 39,
     "metadata": {},
     "output_type": "execute_result"
    }
   ],
   "source": [
    "result[(result[\"subreddit\"]==644)|(result[\"subreddit_neighbor\"]==644)]"
   ]
  }
 ],
 "metadata": {
  "kernelspec": {
   "display_name": "Python 3 (ipykernel)",
   "language": "python",
   "name": "python3"
  },
  "language_info": {
   "codemirror_mode": {
    "name": "ipython",
    "version": 3
   },
   "file_extension": ".py",
   "mimetype": "text/x-python",
   "name": "python",
   "nbconvert_exporter": "python",
   "pygments_lexer": "ipython3",
   "version": "3.9.7"
  }
 },
 "nbformat": 4,
 "nbformat_minor": 2
}
